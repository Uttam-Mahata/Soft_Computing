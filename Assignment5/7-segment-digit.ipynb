{
 "cells": [
  {
   "cell_type": "code",
   "execution_count": 2,
   "metadata": {},
   "outputs": [
    {
     "name": "stdout",
     "output_type": "stream",
     "text": [
      "Balanced and shuffled dataset saved as 'balanced_seven_segment_digit_dataset.csv'\n"
     ]
    }
   ],
   "source": [
    "import pandas as pd\n",
    "import random\n",
    "\n",
    "# Define the 7-segment code for digits 0-9 (positive samples)\n",
    "valid_patterns = [\n",
    "    [1, 1, 1, 1, 1, 1, 0],  # 0\n",
    "    [0, 1, 1, 0, 0, 0, 0],  # 1\n",
    "    [1, 1, 0, 1, 1, 0, 1],  # 2\n",
    "    [1, 1, 1, 1, 0, 0, 1],  # 3\n",
    "    [0, 1, 1, 0, 0, 1, 1],  # 4\n",
    "    [1, 0, 1, 1, 0, 1, 1],  # 5\n",
    "    [1, 0, 1, 1, 1, 1, 1],  # 6\n",
    "    [1, 1, 1, 0, 0, 0, 0],  # 7\n",
    "    [1, 1, 1, 1, 1, 1, 1],  # 8\n",
    "    [1, 1, 1, 1, 0, 1, 1],  # 9\n",
    "]\n",
    "valid_labels = [1] * len(valid_patterns)\n",
    "\n",
    "# Oversample valid patterns by duplicating them\n",
    "oversampled_valid_patterns = valid_patterns * 10  # Duplicates each pattern 10 times\n",
    "oversampled_valid_labels = [1] * len(oversampled_valid_patterns)\n",
    "\n",
    "# Set for valid patterns to avoid duplicate generation for invalid samples\n",
    "valid_patterns_set = {tuple(pattern) for pattern in valid_patterns}\n",
    "\n",
    "# Generate 100 unique invalid patterns\n",
    "invalid_patterns = []\n",
    "while len(invalid_patterns) < 100:\n",
    "    pattern = tuple(random.choices([0, 1], k=7))\n",
    "    if pattern not in valid_patterns_set:\n",
    "        invalid_patterns.append(list(pattern))\n",
    "\n",
    "invalid_labels = [0] * len(invalid_patterns)\n",
    "\n",
    "# Combine oversampled valid and invalid patterns with labels\n",
    "patterns = oversampled_valid_patterns + invalid_patterns\n",
    "labels = oversampled_valid_labels + invalid_labels\n",
    "\n",
    "# Create a DataFrame\n",
    "df = pd.DataFrame(patterns, columns=['a', 'b', 'c', 'd', 'e', 'f', 'g'])\n",
    "df['label'] = labels\n",
    "\n",
    "# Shuffle the dataset to avoid bias in ordering\n",
    "df = df.sample(frac=1, random_state=42).reset_index(drop=True)\n",
    "\n",
    "# Save the dataset to a CSV file\n",
    "df.to_csv(\"balanced_seven_segment_digit_dataset.csv\", index=False)\n",
    "print(\"Balanced and shuffled dataset saved as 'balanced_seven_segment_digit_dataset.csv'\")\n"
   ]
  }
 ],
 "metadata": {
  "kernelspec": {
   "display_name": ".venv",
   "language": "python",
   "name": "python3"
  },
  "language_info": {
   "codemirror_mode": {
    "name": "ipython",
    "version": 3
   },
   "file_extension": ".py",
   "mimetype": "text/x-python",
   "name": "python",
   "nbconvert_exporter": "python",
   "pygments_lexer": "ipython3",
   "version": "3.12.3"
  }
 },
 "nbformat": 4,
 "nbformat_minor": 2
}
