{
 "cells": [
  {
   "cell_type": "markdown",
   "metadata": {},
   "source": [
    "# Breast Cancer Classification Using Neural Network"
   ]
  },
  {
   "cell_type": "code",
   "execution_count": 97,
   "metadata": {},
   "outputs": [],
   "source": [
    "# Import Necessary Libraries\n",
    "import pandas as pd\n",
    "import numpy as np\n",
    "from ucimlrepo import fetch_ucirepo "
   ]
  },
  {
   "cell_type": "markdown",
   "metadata": {},
   "source": [
    "## Load Dataset"
   ]
  },
  {
   "cell_type": "code",
   "execution_count": 98,
   "metadata": {},
   "outputs": [
    {
     "name": "stdout",
     "output_type": "stream",
     "text": [
      "{'uci_id': 14, 'name': 'Breast Cancer', 'repository_url': 'https://archive.ics.uci.edu/dataset/14/breast+cancer', 'data_url': 'https://archive.ics.uci.edu/static/public/14/data.csv', 'abstract': 'This breast cancer domain was obtained from the University Medical Centre, Institute of Oncology, Ljubljana, Yugoslavia. This is one of three domains provided by the Oncology Institute that has repeatedly appeared in the machine learning literature. (See also lymphography and primary-tumor.)', 'area': 'Health and Medicine', 'tasks': ['Classification'], 'characteristics': ['Multivariate'], 'num_instances': 286, 'num_features': 9, 'feature_types': ['Categorical'], 'demographics': ['Age'], 'target_col': ['Class'], 'index_col': None, 'has_missing_values': 'yes', 'missing_values_symbol': 'NaN', 'year_of_dataset_creation': 1988, 'last_updated': 'Thu Mar 07 2024', 'dataset_doi': '10.24432/C51P4M', 'creators': ['Matjaz Zwitter', 'Milan Soklic'], 'intro_paper': None, 'additional_info': {'summary': 'This data set includes 201 instances of one class and 85 instances of another class.  The instances are described by 9 attributes, some of which are linear and some are nominal.\\n', 'purpose': None, 'funded_by': None, 'instances_represent': None, 'recommended_data_splits': None, 'sensitive_data': None, 'preprocessing_description': None, 'variable_info': '   1. Class: no-recurrence-events, recurrence-events\\r\\n   2. age: 10-19, 20-29, 30-39, 40-49, 50-59, 60-69, 70-79, 80-89, 90-99.\\r\\n   3. menopause: lt40, ge40, premeno.\\r\\n   4. tumor-size: 0-4, 5-9, 10-14, 15-19, 20-24, 25-29, 30-34, 35-39, 40-44, 45-49, 50-54, 55-59.\\r\\n   5. inv-nodes: 0-2, 3-5, 6-8, 9-11, 12-14, 15-17, 18-20, 21-23, 24-26, 27-29, 30-32, 33-35, 36-39.\\r\\n   6. node-caps: yes, no.\\r\\n   7. deg-malig: 1, 2, 3.\\r\\n   8. breast: left, right.\\r\\n   9. breast-quad: left-up, left-low, right-up,\\tright-low, central.\\r\\n  10. irradiat:\\tyes, no.', 'citation': 'Obtained from the University Medical Centre, Institute of Oncology, Ljubljana, Yugoslavia.  Thanks go to M. Zwitter and M. Soklic for providing the data.  Please include this citation if you plan to use this database:\\nMatjaz Zwitter & Milan Soklic (physicians)\\nInstitute of Oncology \\nUniversity Medical Center\\nLjubljana, Yugoslavia'}}\n",
      "          name     role         type demographic  \\\n",
      "0        Class   Target       Binary        None   \n",
      "1          age  Feature  Categorical         Age   \n",
      "2    menopause  Feature  Categorical        None   \n",
      "3   tumor-size  Feature  Categorical        None   \n",
      "4    inv-nodes  Feature  Categorical        None   \n",
      "5    node-caps  Feature       Binary        None   \n",
      "6    deg-malig  Feature      Integer        None   \n",
      "7       breast  Feature       Binary        None   \n",
      "8  breast-quad  Feature  Categorical        None   \n",
      "9     irradiat  Feature       Binary        None   \n",
      "\n",
      "                                         description  units missing_values  \n",
      "0            no-recurrence-events, recurrence-events   None             no  \n",
      "1  10-19, 20-29, 30-39, 40-49, 50-59, 60-69, 70-7...  years             no  \n",
      "2                                lt40, ge40, premeno   None             no  \n",
      "3  0-4, 5-9, 10-14, 15-19, 20-24, 25-29, 30-34, 3...   None             no  \n",
      "4   0-2, 3-5, 6-8, 9-11, 12-14, 15-17, 18-20, 21-...   None             no  \n",
      "5                                            yes, no   None            yes  \n",
      "6                                            1, 2, 3   None             no  \n",
      "7                                        left, right   None             no  \n",
      "8   left-up, left-low, right-up,\\tright-low, central   None            yes  \n",
      "9                                            yes, no   None             no  \n"
     ]
    }
   ],
   "source": [
    "\n",
    "  \n",
    "# fetch dataset \n",
    "breast_cancer = fetch_ucirepo(id=14) \n",
    "  \n",
    "# data (as pandas dataframes) \n",
    "X = breast_cancer.data.features \n",
    "y = breast_cancer.data.targets \n",
    "  \n",
    "# metadata \n",
    "print(breast_cancer.metadata) \n",
    "  \n",
    "# variable information \n",
    "print(breast_cancer.variables) \n"
   ]
  },
  {
   "cell_type": "code",
   "execution_count": 99,
   "metadata": {},
   "outputs": [],
   "source": [
    "\n",
    "Merge = pd.concat([X, y], axis=1)\n",
    "Merge.to_csv('breast_cancer.csv', index=False)"
   ]
  },
  {
   "cell_type": "code",
   "execution_count": 100,
   "metadata": {},
   "outputs": [],
   "source": [
    "data = pd.read_csv('breast_cancer.csv')"
   ]
  },
  {
   "cell_type": "code",
   "execution_count": 101,
   "metadata": {},
   "outputs": [
    {
     "data": {
      "text/html": [
       "<div>\n",
       "<style scoped>\n",
       "    .dataframe tbody tr th:only-of-type {\n",
       "        vertical-align: middle;\n",
       "    }\n",
       "\n",
       "    .dataframe tbody tr th {\n",
       "        vertical-align: top;\n",
       "    }\n",
       "\n",
       "    .dataframe thead th {\n",
       "        text-align: right;\n",
       "    }\n",
       "</style>\n",
       "<table border=\"1\" class=\"dataframe\">\n",
       "  <thead>\n",
       "    <tr style=\"text-align: right;\">\n",
       "      <th></th>\n",
       "      <th>age</th>\n",
       "      <th>menopause</th>\n",
       "      <th>tumor-size</th>\n",
       "      <th>inv-nodes</th>\n",
       "      <th>node-caps</th>\n",
       "      <th>deg-malig</th>\n",
       "      <th>breast</th>\n",
       "      <th>breast-quad</th>\n",
       "      <th>irradiat</th>\n",
       "      <th>Class</th>\n",
       "    </tr>\n",
       "  </thead>\n",
       "  <tbody>\n",
       "    <tr>\n",
       "      <th>0</th>\n",
       "      <td>30-39</td>\n",
       "      <td>premeno</td>\n",
       "      <td>30-34</td>\n",
       "      <td>0-2</td>\n",
       "      <td>no</td>\n",
       "      <td>3</td>\n",
       "      <td>left</td>\n",
       "      <td>left_low</td>\n",
       "      <td>no</td>\n",
       "      <td>no-recurrence-events</td>\n",
       "    </tr>\n",
       "    <tr>\n",
       "      <th>1</th>\n",
       "      <td>40-49</td>\n",
       "      <td>premeno</td>\n",
       "      <td>20-24</td>\n",
       "      <td>0-2</td>\n",
       "      <td>no</td>\n",
       "      <td>2</td>\n",
       "      <td>right</td>\n",
       "      <td>right_up</td>\n",
       "      <td>no</td>\n",
       "      <td>no-recurrence-events</td>\n",
       "    </tr>\n",
       "    <tr>\n",
       "      <th>2</th>\n",
       "      <td>40-49</td>\n",
       "      <td>premeno</td>\n",
       "      <td>20-24</td>\n",
       "      <td>0-2</td>\n",
       "      <td>no</td>\n",
       "      <td>2</td>\n",
       "      <td>left</td>\n",
       "      <td>left_low</td>\n",
       "      <td>no</td>\n",
       "      <td>no-recurrence-events</td>\n",
       "    </tr>\n",
       "    <tr>\n",
       "      <th>3</th>\n",
       "      <td>60-69</td>\n",
       "      <td>ge40</td>\n",
       "      <td>15-19</td>\n",
       "      <td>0-2</td>\n",
       "      <td>no</td>\n",
       "      <td>2</td>\n",
       "      <td>right</td>\n",
       "      <td>left_up</td>\n",
       "      <td>no</td>\n",
       "      <td>no-recurrence-events</td>\n",
       "    </tr>\n",
       "    <tr>\n",
       "      <th>4</th>\n",
       "      <td>40-49</td>\n",
       "      <td>premeno</td>\n",
       "      <td>0-4</td>\n",
       "      <td>0-2</td>\n",
       "      <td>no</td>\n",
       "      <td>2</td>\n",
       "      <td>right</td>\n",
       "      <td>right_low</td>\n",
       "      <td>no</td>\n",
       "      <td>no-recurrence-events</td>\n",
       "    </tr>\n",
       "  </tbody>\n",
       "</table>\n",
       "</div>"
      ],
      "text/plain": [
       "     age menopause tumor-size inv-nodes node-caps  deg-malig breast  \\\n",
       "0  30-39   premeno      30-34       0-2        no          3   left   \n",
       "1  40-49   premeno      20-24       0-2        no          2  right   \n",
       "2  40-49   premeno      20-24       0-2        no          2   left   \n",
       "3  60-69      ge40      15-19       0-2        no          2  right   \n",
       "4  40-49   premeno        0-4       0-2        no          2  right   \n",
       "\n",
       "  breast-quad irradiat                 Class  \n",
       "0    left_low       no  no-recurrence-events  \n",
       "1    right_up       no  no-recurrence-events  \n",
       "2    left_low       no  no-recurrence-events  \n",
       "3     left_up       no  no-recurrence-events  \n",
       "4   right_low       no  no-recurrence-events  "
      ]
     },
     "execution_count": 101,
     "metadata": {},
     "output_type": "execute_result"
    }
   ],
   "source": [
    "data.head()"
   ]
  },
  {
   "cell_type": "code",
   "execution_count": 102,
   "metadata": {},
   "outputs": [
    {
     "data": {
      "text/html": [
       "<div>\n",
       "<style scoped>\n",
       "    .dataframe tbody tr th:only-of-type {\n",
       "        vertical-align: middle;\n",
       "    }\n",
       "\n",
       "    .dataframe tbody tr th {\n",
       "        vertical-align: top;\n",
       "    }\n",
       "\n",
       "    .dataframe thead th {\n",
       "        text-align: right;\n",
       "    }\n",
       "</style>\n",
       "<table border=\"1\" class=\"dataframe\">\n",
       "  <thead>\n",
       "    <tr style=\"text-align: right;\">\n",
       "      <th></th>\n",
       "      <th>deg-malig</th>\n",
       "    </tr>\n",
       "  </thead>\n",
       "  <tbody>\n",
       "    <tr>\n",
       "      <th>count</th>\n",
       "      <td>286.000000</td>\n",
       "    </tr>\n",
       "    <tr>\n",
       "      <th>mean</th>\n",
       "      <td>2.048951</td>\n",
       "    </tr>\n",
       "    <tr>\n",
       "      <th>std</th>\n",
       "      <td>0.738217</td>\n",
       "    </tr>\n",
       "    <tr>\n",
       "      <th>min</th>\n",
       "      <td>1.000000</td>\n",
       "    </tr>\n",
       "    <tr>\n",
       "      <th>25%</th>\n",
       "      <td>2.000000</td>\n",
       "    </tr>\n",
       "    <tr>\n",
       "      <th>50%</th>\n",
       "      <td>2.000000</td>\n",
       "    </tr>\n",
       "    <tr>\n",
       "      <th>75%</th>\n",
       "      <td>3.000000</td>\n",
       "    </tr>\n",
       "    <tr>\n",
       "      <th>max</th>\n",
       "      <td>3.000000</td>\n",
       "    </tr>\n",
       "  </tbody>\n",
       "</table>\n",
       "</div>"
      ],
      "text/plain": [
       "        deg-malig\n",
       "count  286.000000\n",
       "mean     2.048951\n",
       "std      0.738217\n",
       "min      1.000000\n",
       "25%      2.000000\n",
       "50%      2.000000\n",
       "75%      3.000000\n",
       "max      3.000000"
      ]
     },
     "execution_count": 102,
     "metadata": {},
     "output_type": "execute_result"
    }
   ],
   "source": [
    "data.describe()"
   ]
  },
  {
   "cell_type": "code",
   "execution_count": 103,
   "metadata": {},
   "outputs": [
    {
     "data": {
      "text/plain": [
       "(286, 10)"
      ]
     },
     "execution_count": 103,
     "metadata": {},
     "output_type": "execute_result"
    }
   ],
   "source": [
    "data.shape"
   ]
  },
  {
   "cell_type": "code",
   "execution_count": 104,
   "metadata": {},
   "outputs": [
    {
     "name": "stdout",
     "output_type": "stream",
     "text": [
      "<class 'pandas.core.frame.DataFrame'>\n",
      "RangeIndex: 286 entries, 0 to 285\n",
      "Data columns (total 10 columns):\n",
      " #   Column       Non-Null Count  Dtype \n",
      "---  ------       --------------  ----- \n",
      " 0   age          286 non-null    object\n",
      " 1   menopause    286 non-null    object\n",
      " 2   tumor-size   286 non-null    object\n",
      " 3   inv-nodes    286 non-null    object\n",
      " 4   node-caps    278 non-null    object\n",
      " 5   deg-malig    286 non-null    int64 \n",
      " 6   breast       286 non-null    object\n",
      " 7   breast-quad  285 non-null    object\n",
      " 8   irradiat     286 non-null    object\n",
      " 9   Class        286 non-null    object\n",
      "dtypes: int64(1), object(9)\n",
      "memory usage: 22.5+ KB\n"
     ]
    }
   ],
   "source": [
    "data.info()"
   ]
  },
  {
   "cell_type": "code",
   "execution_count": 105,
   "metadata": {},
   "outputs": [
    {
     "data": {
      "text/plain": [
       "age            0\n",
       "menopause      0\n",
       "tumor-size     0\n",
       "inv-nodes      0\n",
       "node-caps      8\n",
       "deg-malig      0\n",
       "breast         0\n",
       "breast-quad    1\n",
       "irradiat       0\n",
       "Class          0\n",
       "dtype: int64"
      ]
     },
     "execution_count": 105,
     "metadata": {},
     "output_type": "execute_result"
    }
   ],
   "source": [
    "data.isnull().sum()"
   ]
  },
  {
   "cell_type": "code",
   "execution_count": 106,
   "metadata": {},
   "outputs": [
    {
     "data": {
      "text/plain": [
       "age            object\n",
       "menopause      object\n",
       "tumor-size     object\n",
       "inv-nodes      object\n",
       "node-caps      object\n",
       "deg-malig       int64\n",
       "breast         object\n",
       "breast-quad    object\n",
       "irradiat       object\n",
       "Class          object\n",
       "dtype: object"
      ]
     },
     "execution_count": 106,
     "metadata": {},
     "output_type": "execute_result"
    }
   ],
   "source": [
    "data.dtypes"
   ]
  },
  {
   "cell_type": "code",
   "execution_count": 107,
   "metadata": {},
   "outputs": [
    {
     "name": "stderr",
     "output_type": "stream",
     "text": [
      "C:\\Users\\uttam\\AppData\\Local\\Temp\\ipykernel_12244\\2738075337.py:2: FutureWarning: A value is trying to be set on a copy of a DataFrame or Series through chained assignment using an inplace method.\n",
      "The behavior will change in pandas 3.0. This inplace method will never work because the intermediate object on which we are setting values always behaves as a copy.\n",
      "\n",
      "For example, when doing 'df[col].method(value, inplace=True)', try using 'df.method({col: value}, inplace=True)' or df[col] = df[col].method(value) instead, to perform the operation inplace on the original object.\n",
      "\n",
      "\n",
      "  data['node-caps'].fillna(data['node-caps'].mode()[0], inplace=True)\n",
      "C:\\Users\\uttam\\AppData\\Local\\Temp\\ipykernel_12244\\2738075337.py:3: FutureWarning: A value is trying to be set on a copy of a DataFrame or Series through chained assignment using an inplace method.\n",
      "The behavior will change in pandas 3.0. This inplace method will never work because the intermediate object on which we are setting values always behaves as a copy.\n",
      "\n",
      "For example, when doing 'df[col].method(value, inplace=True)', try using 'df.method({col: value}, inplace=True)' or df[col] = df[col].method(value) instead, to perform the operation inplace on the original object.\n",
      "\n",
      "\n",
      "  data['breast-quad'].fillna(data['breast-quad'].mode()[0], inplace=True)\n"
     ]
    }
   ],
   "source": [
    "# Filling missing values in 'node-caps' and 'breast-quad' with the mode (most frequent value)\n",
    "data['node-caps'].fillna(data['node-caps'].mode()[0], inplace=True)\n",
    "data['breast-quad'].fillna(data['breast-quad'].mode()[0], inplace=True)\n"
   ]
  },
  {
   "cell_type": "code",
   "execution_count": 108,
   "metadata": {},
   "outputs": [
    {
     "data": {
      "text/plain": [
       "age            0\n",
       "menopause      0\n",
       "tumor-size     0\n",
       "inv-nodes      0\n",
       "node-caps      0\n",
       "deg-malig      0\n",
       "breast         0\n",
       "breast-quad    0\n",
       "irradiat       0\n",
       "Class          0\n",
       "dtype: int64"
      ]
     },
     "execution_count": 108,
     "metadata": {},
     "output_type": "execute_result"
    }
   ],
   "source": [
    "data.isnull().sum()"
   ]
  },
  {
   "cell_type": "code",
   "execution_count": 109,
   "metadata": {},
   "outputs": [
    {
     "data": {
      "text/html": [
       "<div>\n",
       "<style scoped>\n",
       "    .dataframe tbody tr th:only-of-type {\n",
       "        vertical-align: middle;\n",
       "    }\n",
       "\n",
       "    .dataframe tbody tr th {\n",
       "        vertical-align: top;\n",
       "    }\n",
       "\n",
       "    .dataframe thead th {\n",
       "        text-align: right;\n",
       "    }\n",
       "</style>\n",
       "<table border=\"1\" class=\"dataframe\">\n",
       "  <thead>\n",
       "    <tr style=\"text-align: right;\">\n",
       "      <th></th>\n",
       "      <th>age</th>\n",
       "      <th>menopause</th>\n",
       "      <th>tumor-size</th>\n",
       "      <th>inv-nodes</th>\n",
       "      <th>node-caps</th>\n",
       "      <th>deg-malig</th>\n",
       "      <th>breast</th>\n",
       "      <th>breast-quad</th>\n",
       "      <th>irradiat</th>\n",
       "      <th>Class</th>\n",
       "    </tr>\n",
       "  </thead>\n",
       "  <tbody>\n",
       "    <tr>\n",
       "      <th>0</th>\n",
       "      <td>30-39</td>\n",
       "      <td>premeno</td>\n",
       "      <td>30-34</td>\n",
       "      <td>0-2</td>\n",
       "      <td>no</td>\n",
       "      <td>3</td>\n",
       "      <td>left</td>\n",
       "      <td>left_low</td>\n",
       "      <td>no</td>\n",
       "      <td>no-recurrence-events</td>\n",
       "    </tr>\n",
       "    <tr>\n",
       "      <th>1</th>\n",
       "      <td>40-49</td>\n",
       "      <td>premeno</td>\n",
       "      <td>20-24</td>\n",
       "      <td>0-2</td>\n",
       "      <td>no</td>\n",
       "      <td>2</td>\n",
       "      <td>right</td>\n",
       "      <td>right_up</td>\n",
       "      <td>no</td>\n",
       "      <td>no-recurrence-events</td>\n",
       "    </tr>\n",
       "    <tr>\n",
       "      <th>2</th>\n",
       "      <td>40-49</td>\n",
       "      <td>premeno</td>\n",
       "      <td>20-24</td>\n",
       "      <td>0-2</td>\n",
       "      <td>no</td>\n",
       "      <td>2</td>\n",
       "      <td>left</td>\n",
       "      <td>left_low</td>\n",
       "      <td>no</td>\n",
       "      <td>no-recurrence-events</td>\n",
       "    </tr>\n",
       "    <tr>\n",
       "      <th>3</th>\n",
       "      <td>60-69</td>\n",
       "      <td>ge40</td>\n",
       "      <td>15-19</td>\n",
       "      <td>0-2</td>\n",
       "      <td>no</td>\n",
       "      <td>2</td>\n",
       "      <td>right</td>\n",
       "      <td>left_up</td>\n",
       "      <td>no</td>\n",
       "      <td>no-recurrence-events</td>\n",
       "    </tr>\n",
       "    <tr>\n",
       "      <th>4</th>\n",
       "      <td>40-49</td>\n",
       "      <td>premeno</td>\n",
       "      <td>0-4</td>\n",
       "      <td>0-2</td>\n",
       "      <td>no</td>\n",
       "      <td>2</td>\n",
       "      <td>right</td>\n",
       "      <td>right_low</td>\n",
       "      <td>no</td>\n",
       "      <td>no-recurrence-events</td>\n",
       "    </tr>\n",
       "  </tbody>\n",
       "</table>\n",
       "</div>"
      ],
      "text/plain": [
       "     age menopause tumor-size inv-nodes node-caps  deg-malig breast  \\\n",
       "0  30-39   premeno      30-34       0-2        no          3   left   \n",
       "1  40-49   premeno      20-24       0-2        no          2  right   \n",
       "2  40-49   premeno      20-24       0-2        no          2   left   \n",
       "3  60-69      ge40      15-19       0-2        no          2  right   \n",
       "4  40-49   premeno        0-4       0-2        no          2  right   \n",
       "\n",
       "  breast-quad irradiat                 Class  \n",
       "0    left_low       no  no-recurrence-events  \n",
       "1    right_up       no  no-recurrence-events  \n",
       "2    left_low       no  no-recurrence-events  \n",
       "3     left_up       no  no-recurrence-events  \n",
       "4   right_low       no  no-recurrence-events  "
      ]
     },
     "execution_count": 109,
     "metadata": {},
     "output_type": "execute_result"
    }
   ],
   "source": [
    "data.head()"
   ]
  },
  {
   "cell_type": "code",
   "execution_count": 116,
   "metadata": {},
   "outputs": [
    {
     "name": "stdout",
     "output_type": "stream",
     "text": [
      "Epoch 0, Error: 0.23258739908319576\n"
     ]
    },
    {
     "data": {
      "image/png": "[encoded data removed]",
      "text/plain": [
       "<Figure size 640x480 with 1 Axes>"
      ]
     },
     "metadata": {},
     "output_type": "display_data"
    },
    {
     "name": "stdout",
     "output_type": "stream",
     "text": [
      "Confusion Matrix:\n",
      " [[48 11]\n",
      " [23  4]]\n",
      "Classification Report:\n",
      "               precision    recall  f1-score   support\n",
      "\n",
      "       False       0.68      0.81      0.74        59\n",
      "        True       0.27      0.15      0.19        27\n",
      "\n",
      "    accuracy                           0.60        86\n",
      "   macro avg       0.47      0.48      0.46        86\n",
      "weighted avg       0.55      0.60      0.57        86\n",
      "\n"
     ]
    }
   ],
   "source": [
    "# Import necessary libraries\n",
    "import pandas as pd\n",
    "import numpy as np\n",
    "from sklearn.model_selection import train_test_split\n",
    "from sklearn.preprocessing import StandardScaler\n",
    "import matplotlib.pyplot as plt\n",
    "\n",
    "# Load dataset\n",
    "data = pd.read_csv('breast_cancer.csv')\n",
    "\n",
    "# Data Preprocessing\n",
    "# Convert categorical variables to numerical using one-hot encoding\n",
    "data_encoded = pd.get_dummies(data, drop_first=True)\n",
    "\n",
    "# Separate features and target\n",
    "X = data_encoded.drop('Class_recurrence-events', axis=1)  # Class column is the target\n",
    "y = data_encoded['Class_recurrence-events']\n",
    "\n",
    "# Standardize the features\n",
    "scaler = StandardScaler()\n",
    "X_scaled = scaler.fit_transform(X)\n",
    "\n",
    "# Split the dataset into training (70%) and testing (30%)\n",
    "X_train, X_test, y_train, y_test = train_test_split(X_scaled, y, test_size=0.3, random_state=42)\n",
    "\n",
    "# Sigmoid activation function\n",
    "def sigmoid(z):\n",
    "    return 1 / (1 + np.exp(-z))\n",
    "\n",
    "# Derivative of sigmoid function\n",
    "def sigmoid_derivative(z):\n",
    "    return z * (1 - z)\n",
    "\n",
    "# Initialize weights and biases\n",
    "input_layer_neurons = X_train.shape[1]  # Number of features\n",
    "hidden_layer_neurons = 10  # Arbitrary number of neurons in hidden layer\n",
    "output_neurons = 1  # Output layer\n",
    "\n",
    "# Randomly initialize weights and biases\n",
    "np.random.seed(42)\n",
    "weights_input_hidden = np.random.randn(input_layer_neurons, hidden_layer_neurons)\n",
    "bias_hidden = np.random.randn(1, hidden_layer_neurons)\n",
    "weights_hidden_output = np.random.randn(hidden_layer_neurons, output_neurons)\n",
    "bias_output = np.random.randn(1, output_neurons)\n",
    "\n",
    "# Learning rate\n",
    "learning_rate = 0.001\n",
    "epochs = 100  # Number of iterations\n",
    "errors = []\n",
    "\n",
    "# Forward propagation function\n",
    "def forward_propagation(X, weights_input_hidden, bias_hidden, weights_hidden_output, bias_output):\n",
    "    # Input to hidden layer\n",
    "    z_hidden = np.dot(X, weights_input_hidden) + bias_hidden\n",
    "    a_hidden = sigmoid(z_hidden)\n",
    "    \n",
    "    # Hidden layer to output layer\n",
    "    z_output = np.dot(a_hidden, weights_hidden_output) + bias_output\n",
    "    a_output = sigmoid(z_output)\n",
    "    \n",
    "    return z_hidden, a_hidden, z_output, a_output\n",
    "\n",
    "# Error calculation (Mean Squared Error)\n",
    "def compute_error(y_true, y_pred):\n",
    "    return 0.5 * np.mean((y_true - y_pred) ** 2)\n",
    "\n",
    "# Backpropagation function to update weights and biases\n",
    "def backpropagation(X, y, z_hidden, a_hidden, z_output, a_output):\n",
    "    global weights_input_hidden, bias_hidden, weights_hidden_output, bias_output\n",
    "    \n",
    "    # Calculate output error\n",
    "    error_output = a_output - y\n",
    "    d_output = error_output * sigmoid_derivative(a_output)\n",
    "    \n",
    "    # Calculate hidden layer error\n",
    "    error_hidden = d_output.dot(weights_hidden_output.T)\n",
    "    d_hidden = error_hidden * sigmoid_derivative(a_hidden)\n",
    "    \n",
    "    # Update weights and biases\n",
    "    weights_hidden_output -= learning_rate * a_hidden.T.dot(d_output)\n",
    "    bias_output -= learning_rate * np.sum(d_output, axis=0, keepdims=True)\n",
    "    \n",
    "    weights_input_hidden -= learning_rate * X.T.dot(d_hidden)\n",
    "    bias_hidden -= learning_rate * np.sum(d_hidden, axis=0, keepdims=True)\n",
    "\n",
    "# Training the neural network\n",
    "for epoch in range(epochs):\n",
    "    # Forward propagation\n",
    "    z_hidden, a_hidden, z_output, a_output = forward_propagation(X_train, weights_input_hidden, bias_hidden, weights_hidden_output, bias_output)\n",
    "    \n",
    "    # Compute error\n",
    "    error = compute_error(y_train.values.reshape(-1, 1), a_output)\n",
    "    errors.append(error)\n",
    "    \n",
    "    # Backpropagation to update weights and biases\n",
    "    backpropagation(X_train, y_train.values.reshape(-1, 1), z_hidden, a_hidden, z_output, a_output)\n",
    "    \n",
    "    # Print error for every 100th epoch\n",
    "    if epoch % 100 == 0:\n",
    "        print(f\"Epoch {epoch}, Error: {error}\")\n",
    "\n",
    "# Plotting Error vs. Epochs curve\n",
    "plt.plot(errors)\n",
    "plt.title('Error vs. Epochs')\n",
    "plt.xlabel('Epochs')\n",
    "plt.ylabel('Error')\n",
    "plt.show()\n",
    "\n",
    "# Testing the neural network\n",
    "_, _, _, a_output_test = forward_propagation(X_test, weights_input_hidden, bias_hidden, weights_hidden_output, bias_output)\n",
    "y_pred = np.round(a_output_test)\n",
    "\n",
    "# Confusion Matrix\n",
    "from sklearn.metrics import confusion_matrix, classification_report\n",
    "\n",
    "conf_matrix = confusion_matrix(y_test, y_pred)\n",
    "print(\"Confusion Matrix:\\n\", conf_matrix)\n",
    "\n",
    "# Classification Report\n",
    "report = classification_report(y_test, y_pred)\n",
    "print(\"Classification Report:\\n\", report)\n"
   ]
  },
  {
   "cell_type": "code",
   "execution_count": 113,
   "metadata": {},
   "outputs": [
    {
     "name": "stdout",
     "output_type": "stream",
     "text": [
      "Fold 1:\n",
      "Accuracy: 0.5517\n",
      "Classification Report:\n",
      "               precision    recall  f1-score   support\n",
      "\n",
      "       False       0.60      0.86      0.71        37\n",
      "        True       0.00      0.00      0.00        21\n",
      "\n",
      "    accuracy                           0.55        58\n",
      "   macro avg       0.30      0.43      0.36        58\n",
      "weighted avg       0.39      0.55      0.45        58\n",
      "\n",
      "Confusion Matrix:\n",
      " [[32  5]\n",
      " [21  0]]\n"
     ]
    },
    {
     "data": {
      "image/png": "[encoded data removed]",
      "text/plain": [
       "<Figure size 600x400 with 2 Axes>"
      ]
     },
     "metadata": {},
     "output_type": "display_data"
    },
    {
     "name": "stdout",
     "output_type": "stream",
     "text": [
      "Fold 2:\n",
      "Accuracy: 0.7193\n",
      "Classification Report:\n",
      "               precision    recall  f1-score   support\n",
      "\n",
      "       False       0.75      0.93      0.83        42\n",
      "        True       0.40      0.13      0.20        15\n",
      "\n",
      "    accuracy                           0.72        57\n",
      "   macro avg       0.57      0.53      0.51        57\n",
      "weighted avg       0.66      0.72      0.66        57\n",
      "\n",
      "Confusion Matrix:\n",
      " [[39  3]\n",
      " [13  2]]\n"
     ]
    },
    {
     "data": {
      "image/png": "[encoded data removed]",
      "text/plain": [
       "<Figure size 600x400 with 2 Axes>"
      ]
     },
     "metadata": {},
     "output_type": "display_data"
    },
    {
     "name": "stdout",
     "output_type": "stream",
     "text": [
      "Fold 3:\n",
      "Accuracy: 0.7368\n",
      "Classification Report:\n",
      "               precision    recall  f1-score   support\n",
      "\n",
      "       False       0.76      0.93      0.84        42\n",
      "        True       0.50      0.20      0.29        15\n",
      "\n",
      "    accuracy                           0.74        57\n",
      "   macro avg       0.63      0.56      0.56        57\n",
      "weighted avg       0.70      0.74      0.69        57\n",
      "\n",
      "Confusion Matrix:\n",
      " [[39  3]\n",
      " [12  3]]\n"
     ]
    },
    {
     "data": {
      "image/png": "[encoded data removed]",
      "text/plain": [
       "<Figure size 600x400 with 2 Axes>"
      ]
     },
     "metadata": {},
     "output_type": "display_data"
    },
    {
     "name": "stdout",
     "output_type": "stream",
     "text": [
      "Fold 4:\n",
      "Accuracy: 0.5965\n",
      "Classification Report:\n",
      "               precision    recall  f1-score   support\n",
      "\n",
      "       False       0.64      0.89      0.75        38\n",
      "        True       0.00      0.00      0.00        19\n",
      "\n",
      "    accuracy                           0.60        57\n",
      "   macro avg       0.32      0.45      0.37        57\n",
      "weighted avg       0.43      0.60      0.50        57\n",
      "\n",
      "Confusion Matrix:\n",
      " [[34  4]\n",
      " [19  0]]\n"
     ]
    },
    {
     "data": {
      "image/png": "[encoded data removed]",
      "text/plain": [
       "<Figure size 600x400 with 2 Axes>"
      ]
     },
     "metadata": {},
     "output_type": "display_data"
    },
    {
     "name": "stdout",
     "output_type": "stream",
     "text": [
      "Fold 5:\n",
      "Accuracy: 0.7193\n",
      "Classification Report:\n",
      "               precision    recall  f1-score   support\n",
      "\n",
      "       False       0.76      0.90      0.83        42\n",
      "        True       0.43      0.20      0.27        15\n",
      "\n",
      "    accuracy                           0.72        57\n",
      "   macro avg       0.59      0.55      0.55        57\n",
      "weighted avg       0.67      0.72      0.68        57\n",
      "\n",
      "Confusion Matrix:\n",
      " [[38  4]\n",
      " [12  3]]\n"
     ]
    },
    {
     "data": {
      "image/png": "[encoded data removed]",
      "text/plain": [
       "<Figure size 600x400 with 2 Axes>"
      ]
     },
     "metadata": {},
     "output_type": "display_data"
    }
   ],
   "source": [
    "# Import necessary libraries\n",
    "import pandas as pd\n",
    "import numpy as np\n",
    "from sklearn.model_selection import KFold\n",
    "from sklearn.preprocessing import StandardScaler\n",
    "from sklearn.metrics import accuracy_score, classification_report, confusion_matrix\n",
    "import matplotlib.pyplot as plt\n",
    "import seaborn as sns\n",
    "\n",
    "# Load dataset\n",
    "data = pd.read_csv('breast_cancer.csv')\n",
    "\n",
    "# Data Preprocessing\n",
    "# Convert categorical variables to numerical using one-hot encoding\n",
    "data_encoded = pd.get_dummies(data, drop_first=True)\n",
    "\n",
    "# Separate features and target\n",
    "X = data_encoded.drop('Class_recurrence-events', axis=1)  # Class column is the target\n",
    "y = data_encoded['Class_recurrence-events']\n",
    "\n",
    "# Standardize the features\n",
    "scaler = StandardScaler()\n",
    "X_scaled = scaler.fit_transform(X)\n",
    "\n",
    "# Sigmoid activation function\n",
    "def sigmoid(z):\n",
    "    return 1 / (1 + np.exp(-z))\n",
    "\n",
    "# Derivative of sigmoid function\n",
    "def sigmoid_derivative(z):\n",
    "    return z * (1 - z)\n",
    "\n",
    "# Initialize weights and biases\n",
    "def initialize_parameters(input_layer_neurons, hidden_layer_neurons, output_neurons):\n",
    "    np.random.seed(42)\n",
    "    weights_input_hidden = np.random.randn(input_layer_neurons, hidden_layer_neurons)\n",
    "    bias_hidden = np.random.randn(1, hidden_layer_neurons)\n",
    "    weights_hidden_output = np.random.randn(hidden_layer_neurons, output_neurons)\n",
    "    bias_output = np.random.randn(1, output_neurons)\n",
    "    return weights_input_hidden, bias_hidden, weights_hidden_output, bias_output\n",
    "\n",
    "# Forward propagation function\n",
    "def forward_propagation(X, weights_input_hidden, bias_hidden, weights_hidden_output, bias_output):\n",
    "    # Input to hidden layer\n",
    "    z_hidden = np.dot(X, weights_input_hidden) + bias_hidden\n",
    "    a_hidden = sigmoid(z_hidden)\n",
    "    \n",
    "    # Hidden layer to output layer\n",
    "    z_output = np.dot(a_hidden, weights_hidden_output) + bias_output\n",
    "    a_output = sigmoid(z_output)\n",
    "    \n",
    "    return z_hidden, a_hidden, z_output, a_output\n",
    "\n",
    "# Error calculation (Mean Squared Error)\n",
    "def compute_error(y_true, y_pred):\n",
    "    return 0.5 * np.mean((y_true - y_pred) ** 2)\n",
    "\n",
    "# Backpropagation function to update weights and biases\n",
    "def backpropagation(X, y, z_hidden, a_hidden, z_output, a_output, weights_input_hidden, bias_hidden, weights_hidden_output, bias_output, learning_rate):\n",
    "    # Calculate output error\n",
    "    error_output = a_output - y\n",
    "    d_output = error_output * sigmoid_derivative(a_output)\n",
    "    \n",
    "    # Calculate hidden layer error\n",
    "    error_hidden = d_output.dot(weights_hidden_output.T)\n",
    "    d_hidden = error_hidden * sigmoid_derivative(a_hidden)\n",
    "    \n",
    "    # Update weights and biases\n",
    "    weights_hidden_output -= learning_rate * a_hidden.T.dot(d_output)\n",
    "    bias_output -= learning_rate * np.sum(d_output, axis=0, keepdims=True)\n",
    "    \n",
    "    weights_input_hidden -= learning_rate * X.T.dot(d_hidden)\n",
    "    bias_hidden -= learning_rate * np.sum(d_hidden, axis=0, keepdims=True)\n",
    "    \n",
    "    return weights_input_hidden, bias_hidden, weights_hidden_output, bias_output\n",
    "\n",
    "# K-Fold Cross-Validation Setup\n",
    "kf = KFold(n_splits=5, shuffle=True, random_state=42)\n",
    "\n",
    "# Hyperparameters\n",
    "input_layer_neurons = X_scaled.shape[1]  # Number of features\n",
    "hidden_layer_neurons = 10  # Arbitrary number of neurons in hidden layer\n",
    "output_neurons = 1  # Output layer\n",
    "learning_rate = 0.001\n",
    "epochs = 500\n",
    "\n",
    "# Cross-validation loop\n",
    "fold = 1\n",
    "for train_index, test_index in kf.split(X_scaled):\n",
    "    print(f\"Fold {fold}:\")\n",
    "\n",
    "    # Split the data\n",
    "    X_train, X_test = X_scaled[train_index], X_scaled[test_index]\n",
    "    y_train, y_test = y[train_index], y[test_index]\n",
    "\n",
    "    # Initialize parameters for each fold\n",
    "    weights_input_hidden, bias_hidden, weights_hidden_output, bias_output = initialize_parameters(input_layer_neurons, hidden_layer_neurons, output_neurons)\n",
    "\n",
    "    # Training the neural network\n",
    "    errors = []\n",
    "    for epoch in range(epochs):\n",
    "        # Forward propagation\n",
    "        z_hidden, a_hidden, z_output, a_output = forward_propagation(X_train, weights_input_hidden, bias_hidden, weights_hidden_output, bias_output)\n",
    "        \n",
    "        # Compute error\n",
    "        error = compute_error(y_train.values.reshape(-1, 1), a_output)\n",
    "        errors.append(error)\n",
    "        \n",
    "        # Backpropagation to update weights and biases\n",
    "        weights_input_hidden, bias_hidden, weights_hidden_output, bias_output = backpropagation(X_train, y_train.values.reshape(-1, 1), z_hidden, a_hidden, z_output, a_output, weights_input_hidden, bias_hidden, weights_hidden_output, bias_output, learning_rate)\n",
    "\n",
    "    # Testing the neural network\n",
    "    _, _, _, a_output_test = forward_propagation(X_test, weights_input_hidden, bias_hidden, weights_hidden_output, bias_output)\n",
    "    y_pred = np.round(a_output_test)\n",
    "\n",
    "    # Calculate accuracy\n",
    "    accuracy = accuracy_score(y_test, y_pred)\n",
    "    print(f\"Accuracy: {accuracy:.4f}\")\n",
    "\n",
    "    # Classification Report\n",
    "    report = classification_report(y_test, y_pred)\n",
    "    print(\"Classification Report:\\n\", report)\n",
    "\n",
    "    # Confusion Matrix\n",
    "    conf_matrix = confusion_matrix(y_test, y_pred)\n",
    "    print(\"Confusion Matrix:\\n\", conf_matrix)\n",
    "\n",
    "    # Plot Confusion Matrix\n",
    "    plt.figure(figsize=(6, 4))\n",
    "    sns.heatmap(conf_matrix, annot=True, fmt='d', cmap='Blues')\n",
    "    plt.title(f\"Confusion Matrix for Fold {fold}\")\n",
    "    plt.xlabel('Predicted')\n",
    "    plt.ylabel('Actual')\n",
    "    plt.show()\n",
    "\n",
    "    fold += 1\n"
   ]
  },
  {
   "cell_type": "code",
   "execution_count": 115,
   "metadata": {},
   "outputs": [
    {
     "name": "stdout",
     "output_type": "stream",
     "text": [
      "Fold 1:\n",
      "Accuracy: 0.6034\n",
      "Classification Report:\n",
      "               precision    recall  f1-score   support\n",
      "\n",
      "       False       0.70      0.81      0.75        43\n",
      "        True       0.00      0.00      0.00        15\n",
      "\n",
      "    accuracy                           0.60        58\n",
      "   macro avg       0.35      0.41      0.38        58\n",
      "weighted avg       0.52      0.60      0.56        58\n",
      "\n",
      "Confusion Matrix:\n",
      " [[35  8]\n",
      " [15  0]]\n"
     ]
    },
    {
     "data": {
      "image/png": "[encoded data removed]",
      "text/plain": [
       "<Figure size 600x400 with 2 Axes>"
      ]
     },
     "metadata": {},
     "output_type": "display_data"
    },
    {
     "name": "stdout",
     "output_type": "stream",
     "text": [
      "Fold 2:\n",
      "Accuracy: 0.7719\n",
      "Classification Report:\n",
      "               precision    recall  f1-score   support\n",
      "\n",
      "       False       0.79      0.95      0.86        43\n",
      "        True       0.60      0.21      0.32        14\n",
      "\n",
      "    accuracy                           0.77        57\n",
      "   macro avg       0.69      0.58      0.59        57\n",
      "weighted avg       0.74      0.77      0.73        57\n",
      "\n",
      "Confusion Matrix:\n",
      " [[41  2]\n",
      " [11  3]]\n"
     ]
    },
    {
     "data": {
      "image/png": "[encoded data removed]",
      "text/plain": [
       "<Figure size 600x400 with 2 Axes>"
      ]
     },
     "metadata": {},
     "output_type": "display_data"
    },
    {
     "name": "stdout",
     "output_type": "stream",
     "text": [
      "Fold 3:\n",
      "Accuracy: 0.6140\n",
      "Classification Report:\n",
      "               precision    recall  f1-score   support\n",
      "\n",
      "       False       0.62      0.91      0.74        34\n",
      "        True       0.57      0.17      0.27        23\n",
      "\n",
      "    accuracy                           0.61        57\n",
      "   macro avg       0.60      0.54      0.50        57\n",
      "weighted avg       0.60      0.61      0.55        57\n",
      "\n",
      "Confusion Matrix:\n",
      " [[31  3]\n",
      " [19  4]]\n"
     ]
    },
    {
     "data": {
      "image/png": "[encoded data removed]",
      "text/plain": [
       "<Figure size 600x400 with 2 Axes>"
      ]
     },
     "metadata": {},
     "output_type": "display_data"
    },
    {
     "name": "stdout",
     "output_type": "stream",
     "text": [
      "Fold 4:\n",
      "Accuracy: 0.6316\n",
      "Classification Report:\n",
      "               precision    recall  f1-score   support\n",
      "\n",
      "       False       0.72      0.80      0.76        41\n",
      "        True       0.27      0.19      0.22        16\n",
      "\n",
      "    accuracy                           0.63        57\n",
      "   macro avg       0.50      0.50      0.49        57\n",
      "weighted avg       0.59      0.63      0.61        57\n",
      "\n",
      "Confusion Matrix:\n",
      " [[33  8]\n",
      " [13  3]]\n"
     ]
    },
    {
     "data": {
      "image/png": "[encoded data removed]",
      "text/plain": [
       "<Figure size 600x400 with 2 Axes>"
      ]
     },
     "metadata": {},
     "output_type": "display_data"
    },
    {
     "name": "stdout",
     "output_type": "stream",
     "text": [
      "Fold 5:\n",
      "Accuracy: 0.6316\n",
      "Classification Report:\n",
      "               precision    recall  f1-score   support\n",
      "\n",
      "       False       0.68      0.90      0.77        40\n",
      "        True       0.00      0.00      0.00        17\n",
      "\n",
      "    accuracy                           0.63        57\n",
      "   macro avg       0.34      0.45      0.39        57\n",
      "weighted avg       0.48      0.63      0.54        57\n",
      "\n",
      "Confusion Matrix:\n",
      " [[36  4]\n",
      " [17  0]]\n"
     ]
    },
    {
     "data": {
      "image/png": "[encoded data removed]",
      "text/plain": [
       "<Figure size 600x400 with 2 Axes>"
      ]
     },
     "metadata": {},
     "output_type": "display_data"
    }
   ],
   "source": [
    "# Import necessary libraries\n",
    "import pandas as pd\n",
    "import numpy as np\n",
    "from sklearn.model_selection import KFold\n",
    "from sklearn.preprocessing import StandardScaler\n",
    "from sklearn.metrics import accuracy_score, classification_report, confusion_matrix\n",
    "import matplotlib.pyplot as plt\n",
    "import seaborn as sns\n",
    "\n",
    "# Load dataset\n",
    "data = pd.read_csv('breast_cancer.csv')\n",
    "\n",
    "# Data Preprocessing\n",
    "# Convert categorical variables to numerical using one-hot encoding\n",
    "data_encoded = pd.get_dummies(data, drop_first=True)\n",
    "\n",
    "# Separate features and target\n",
    "X = data_encoded.drop('Class_recurrence-events', axis=1)  # Class column is the target\n",
    "y = data_encoded['Class_recurrence-events']\n",
    "\n",
    "# Standardize the features\n",
    "scaler = StandardScaler()\n",
    "X_scaled = scaler.fit_transform(X)\n",
    "\n",
    "# Shuffle the rows of the dataset after scaling\n",
    "shuffled_indices = np.random.permutation(len(X_scaled))\n",
    "X_scaled = X_scaled[shuffled_indices]\n",
    "y = y.values[shuffled_indices]  # Shuffle the target variable accordingly\n",
    "\n",
    "# Sigmoid activation function\n",
    "def sigmoid(z):\n",
    "    return 1 / (1 + np.exp(-z))\n",
    "\n",
    "# Derivative of sigmoid function\n",
    "def sigmoid_derivative(z):\n",
    "    return z * (1 - z)\n",
    "\n",
    "# Initialize weights and biases\n",
    "def initialize_parameters(input_layer_neurons, hidden_layer_neurons, output_neurons):\n",
    "    np.random.seed(42)\n",
    "    weights_input_hidden = np.random.randn(input_layer_neurons, hidden_layer_neurons)\n",
    "    bias_hidden = np.random.randn(1, hidden_layer_neurons)\n",
    "    weights_hidden_output = np.random.randn(hidden_layer_neurons, output_neurons)\n",
    "    bias_output = np.random.randn(1, output_neurons)\n",
    "    return weights_input_hidden, bias_hidden, weights_hidden_output, bias_output\n",
    "\n",
    "# Forward propagation function\n",
    "def forward_propagation(X, weights_input_hidden, bias_hidden, weights_hidden_output, bias_output):\n",
    "    # Input to hidden layer\n",
    "    z_hidden = np.dot(X, weights_input_hidden) + bias_hidden\n",
    "    a_hidden = sigmoid(z_hidden)\n",
    "    \n",
    "    # Hidden layer to output layer\n",
    "    z_output = np.dot(a_hidden, weights_hidden_output) + bias_output\n",
    "    a_output = sigmoid(z_output)\n",
    "    \n",
    "    return z_hidden, a_hidden, z_output, a_output\n",
    "\n",
    "# Error calculation (Mean Squared Error)\n",
    "def compute_error(y_true, y_pred):\n",
    "    return 0.5 * np.mean((y_true - y_pred) ** 2)\n",
    "\n",
    "# Backpropagation function to update weights and biases\n",
    "def backpropagation(X, y, z_hidden, a_hidden, z_output, a_output, weights_input_hidden, bias_hidden, weights_hidden_output, bias_output, learning_rate):\n",
    "    # Calculate output error\n",
    "    error_output = a_output - y\n",
    "    d_output = error_output * sigmoid_derivative(a_output)\n",
    "    \n",
    "    # Calculate hidden layer error\n",
    "    error_hidden = d_output.dot(weights_hidden_output.T)\n",
    "    d_hidden = error_hidden * sigmoid_derivative(a_hidden)\n",
    "    \n",
    "    # Update weights and biases\n",
    "    weights_hidden_output -= learning_rate * a_hidden.T.dot(d_output)\n",
    "    bias_output -= learning_rate * np.sum(d_output, axis=0, keepdims=True)\n",
    "    \n",
    "    weights_input_hidden -= learning_rate * X.T.dot(d_hidden)\n",
    "    bias_hidden -= learning_rate * np.sum(d_hidden, axis=0, keepdims=True)\n",
    "    \n",
    "    return weights_input_hidden, bias_hidden, weights_hidden_output, bias_output\n",
    "\n",
    "# K-Fold Cross-Validation Setup\n",
    "kf = KFold(n_splits=5, shuffle=True, random_state=42)\n",
    "\n",
    "# Hyperparameters\n",
    "input_layer_neurons = X_scaled.shape[1]  # Number of features\n",
    "hidden_layer_neurons = 10  # Arbitrary number of neurons in hidden layer\n",
    "output_neurons = 1  # Output layer\n",
    "learning_rate = 0.001\n",
    "epochs = 500\n",
    "\n",
    "# Cross-validation loop\n",
    "fold = 1\n",
    "for train_index, test_index in kf.split(X_scaled):\n",
    "    print(f\"Fold {fold}:\")\n",
    "\n",
    "    # Split the data\n",
    "    X_train, X_test = X_scaled[train_index], X_scaled[test_index]\n",
    "    y_train, y_test = y[train_index], y[test_index]\n",
    "\n",
    "    # Initialize parameters for each fold\n",
    "    weights_input_hidden, bias_hidden, weights_hidden_output, bias_output = initialize_parameters(input_layer_neurons, hidden_layer_neurons, output_neurons)\n",
    "\n",
    "    # Training the neural network\n",
    "    errors = []\n",
    "    for epoch in range(epochs):\n",
    "        # Forward propagation\n",
    "        z_hidden, a_hidden, z_output, a_output = forward_propagation(X_train, weights_input_hidden, bias_hidden, weights_hidden_output, bias_output)\n",
    "        \n",
    "        # Compute error\n",
    "        error = compute_error(y_train.reshape(-1, 1), a_output)\n",
    "        errors.append(error)\n",
    "        \n",
    "        # Backpropagation to update weights and biases\n",
    "        weights_input_hidden, bias_hidden, weights_hidden_output, bias_output = backpropagation(X_train, y_train.reshape(-1, 1), z_hidden, a_hidden, z_output, a_output, weights_input_hidden, bias_hidden, weights_hidden_output, bias_output, learning_rate)\n",
    "\n",
    "    # Testing the neural network\n",
    "    _, _, _, a_output_test = forward_propagation(X_test, weights_input_hidden, bias_hidden, weights_hidden_output, bias_output)\n",
    "    y_pred = np.round(a_output_test)\n",
    "\n",
    "    # Calculate accuracy\n",
    "    accuracy = accuracy_score(y_test, y_pred)\n",
    "    print(f\"Accuracy: {accuracy:.4f}\")\n",
    "\n",
    "    # Classification Report\n",
    "    report = classification_report(y_test, y_pred)\n",
    "    print(\"Classification Report:\\n\", report)\n",
    "\n",
    "    # Confusion Matrix\n",
    "    conf_matrix = confusion_matrix(y_test, y_pred)\n",
    "    print(\"Confusion Matrix:\\n\", conf_matrix)\n",
    "\n",
    "    # Plot Confusion Matrix\n",
    "    plt.figure(figsize=(6, 4))\n",
    "    sns.heatmap(conf_matrix, annot=True, fmt='d', cmap='Blues')\n",
    "    plt.title(f\"Confusion Matrix for Fold {fold}\")\n",
    "    plt.xlabel('Predicted')\n",
    "    plt.ylabel('Actual')\n",
    "    plt.show()\n",
    "\n",
    "    fold += 1\n"
   ]
  },
  {
   "cell_type": "code",
   "execution_count": null,
   "metadata": {},
   "outputs": [],
   "source": []
  }
 ],
 "metadata": {
  "kernelspec": {
   "display_name": "venv",
   "language": "python",
   "name": "python3"
  },
  "language_info": {
   "codemirror_mode": {
    "name": "ipython",
    "version": 3
   },
   "file_extension": ".py",
   "mimetype": "text/x-python",
   "name": "python",
   "nbconvert_exporter": "python",
   "pygments_lexer": "ipython3",
   "version": "3.12.7"
  }
 },
 "nbformat": 4,
 "nbformat_minor": 2
}
