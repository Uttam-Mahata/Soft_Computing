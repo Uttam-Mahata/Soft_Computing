{
 "cells": [
  {
   "cell_type": "markdown",
   "metadata": {},
   "source": [
    "## Name: Uttam Mahata\n",
    "## Enrollment No: 2022CSB104"
   ]
  },
  {
   "cell_type": "markdown",
   "metadata": {},
   "source": [
    "# Breast Cancer Classification Using Neural Network"
   ]
  },
  {
   "cell_type": "code",
   "execution_count": 1,
   "metadata": {},
   "outputs": [
    {
     "name": "stdout",
     "output_type": "stream",
     "text": [
      "Requirement already satisfied: ucimlrepo in /usr/local/python/3.12.1/lib/python3.12/site-packages (0.0.7)\n",
      "Requirement already satisfied: pandas>=1.0.0 in /home/codespace/.local/lib/python3.12/site-packages (from ucimlrepo) (2.2.3)\n",
      "Requirement already satisfied: certifi>=2020.12.5 in /home/codespace/.local/lib/python3.12/site-packages (from ucimlrepo) (2024.8.30)\n",
      "Requirement already satisfied: numpy>=1.26.0 in /home/codespace/.local/lib/python3.12/site-packages (from pandas>=1.0.0->ucimlrepo) (2.1.1)\n",
      "Requirement already satisfied: python-dateutil>=2.8.2 in /home/codespace/.local/lib/python3.12/site-packages (from pandas>=1.0.0->ucimlrepo) (2.9.0.post0)\n",
      "Requirement already satisfied: pytz>=2020.1 in /home/codespace/.local/lib/python3.12/site-packages (from pandas>=1.0.0->ucimlrepo) (2024.2)\n",
      "Requirement already satisfied: tzdata>=2022.7 in /home/codespace/.local/lib/python3.12/site-packages (from pandas>=1.0.0->ucimlrepo) (2024.2)\n",
      "Requirement already satisfied: six>=1.5 in /home/codespace/.local/lib/python3.12/site-packages (from python-dateutil>=2.8.2->pandas>=1.0.0->ucimlrepo) (1.16.0)\n",
      "\n",
      "\u001b[1m[\u001b[0m\u001b[34;49mnotice\u001b[0m\u001b[1;39;49m]\u001b[0m\u001b[39;49m A new release of pip is available: \u001b[0m\u001b[31;49m24.2\u001b[0m\u001b[39;49m -> \u001b[0m\u001b[32;49m24.3\u001b[0m\n",
      "\u001b[1m[\u001b[0m\u001b[34;49mnotice\u001b[0m\u001b[1;39;49m]\u001b[0m\u001b[39;49m To update, run: \u001b[0m\u001b[32;49mpython3 -m pip install --upgrade pip\u001b[0m\n"
     ]
    }
   ],
   "source": [
    "!pip install ucimlrepo"
   ]
  },
  {
   "cell_type": "code",
   "execution_count": 2,
   "metadata": {},
   "outputs": [],
   "source": [
    "# Import Necessary Libraries\n",
    "import pandas as pd\n",
    "import numpy as np\n",
    "from ucimlrepo import fetch_ucirepo "
   ]
  },
  {
   "cell_type": "markdown",
   "metadata": {},
   "source": [
    "## Load Dataset"
   ]
  },
  {
   "cell_type": "code",
   "execution_count": 3,
   "metadata": {},
   "outputs": [
    {
     "name": "stdout",
     "output_type": "stream",
     "text": [
      "{'uci_id': 14, 'name': 'Breast Cancer', 'repository_url': 'https://archive.ics.uci.edu/dataset/14/breast+cancer', 'data_url': 'https://archive.ics.uci.edu/static/public/14/data.csv', 'abstract': 'This breast cancer domain was obtained from the University Medical Centre, Institute of Oncology, Ljubljana, Yugoslavia. This is one of three domains provided by the Oncology Institute that has repeatedly appeared in the machine learning literature. (See also lymphography and primary-tumor.)', 'area': 'Health and Medicine', 'tasks': ['Classification'], 'characteristics': ['Multivariate'], 'num_instances': 286, 'num_features': 9, 'feature_types': ['Categorical'], 'demographics': ['Age'], 'target_col': ['Class'], 'index_col': None, 'has_missing_values': 'yes', 'missing_values_symbol': 'NaN', 'year_of_dataset_creation': 1988, 'last_updated': 'Thu Mar 07 2024', 'dataset_doi': '10.24432/C51P4M', 'creators': ['Matjaz Zwitter', 'Milan Soklic'], 'intro_paper': None, 'additional_info': {'summary': 'This data set includes 201 instances of one class and 85 instances of another class.  The instances are described by 9 attributes, some of which are linear and some are nominal.\\n', 'purpose': None, 'funded_by': None, 'instances_represent': None, 'recommended_data_splits': None, 'sensitive_data': None, 'preprocessing_description': None, 'variable_info': '   1. Class: no-recurrence-events, recurrence-events\\r\\n   2. age: 10-19, 20-29, 30-39, 40-49, 50-59, 60-69, 70-79, 80-89, 90-99.\\r\\n   3. menopause: lt40, ge40, premeno.\\r\\n   4. tumor-size: 0-4, 5-9, 10-14, 15-19, 20-24, 25-29, 30-34, 35-39, 40-44, 45-49, 50-54, 55-59.\\r\\n   5. inv-nodes: 0-2, 3-5, 6-8, 9-11, 12-14, 15-17, 18-20, 21-23, 24-26, 27-29, 30-32, 33-35, 36-39.\\r\\n   6. node-caps: yes, no.\\r\\n   7. deg-malig: 1, 2, 3.\\r\\n   8. breast: left, right.\\r\\n   9. breast-quad: left-up, left-low, right-up,\\tright-low, central.\\r\\n  10. irradiat:\\tyes, no.', 'citation': 'Obtained from the University Medical Centre, Institute of Oncology, Ljubljana, Yugoslavia.  Thanks go to M. Zwitter and M. Soklic for providing the data.  Please include this citation if you plan to use this database:\\nMatjaz Zwitter & Milan Soklic (physicians)\\nInstitute of Oncology \\nUniversity Medical Center\\nLjubljana, Yugoslavia'}}\n",
      "          name     role         type demographic  \\\n",
      "0        Class   Target       Binary        None   \n",
      "1          age  Feature  Categorical         Age   \n",
      "2    menopause  Feature  Categorical        None   \n",
      "3   tumor-size  Feature  Categorical        None   \n",
      "4    inv-nodes  Feature  Categorical        None   \n",
      "5    node-caps  Feature       Binary        None   \n",
      "6    deg-malig  Feature      Integer        None   \n",
      "7       breast  Feature       Binary        None   \n",
      "8  breast-quad  Feature  Categorical        None   \n",
      "9     irradiat  Feature       Binary        None   \n",
      "\n",
      "                                         description  units missing_values  \n",
      "0            no-recurrence-events, recurrence-events   None             no  \n",
      "1  10-19, 20-29, 30-39, 40-49, 50-59, 60-69, 70-7...  years             no  \n",
      "2                                lt40, ge40, premeno   None             no  \n",
      "3  0-4, 5-9, 10-14, 15-19, 20-24, 25-29, 30-34, 3...   None             no  \n",
      "4   0-2, 3-5, 6-8, 9-11, 12-14, 15-17, 18-20, 21-...   None             no  \n",
      "5                                            yes, no   None            yes  \n",
      "6                                            1, 2, 3   None             no  \n",
      "7                                        left, right   None             no  \n",
      "8   left-up, left-low, right-up,\\tright-low, central   None            yes  \n",
      "9                                            yes, no   None             no  \n"
     ]
    }
   ],
   "source": [
    "from ucimlrepo import fetch_ucirepo \n",
    "  \n",
    "# fetch dataset \n",
    "breast_cancer = fetch_ucirepo(id=14) \n",
    "  \n",
    "# data (as pandas dataframes) \n",
    "X = breast_cancer.data.features \n",
    "y = breast_cancer.data.targets \n",
    "  \n",
    "# metadata \n",
    "print(breast_cancer.metadata) \n",
    "  \n",
    "# variable information \n",
    "print(breast_cancer.variables) \n"
   ]
  },
  {
   "cell_type": "code",
   "execution_count": 4,
   "metadata": {},
   "outputs": [],
   "source": [
    "\n",
    "Merge = pd.concat([X, y], axis=1)\n",
    "Merge.to_csv('breast_cancer.csv', index=False)"
   ]
  },
  {
   "cell_type": "code",
   "execution_count": 5,
   "metadata": {},
   "outputs": [],
   "source": [
    "data = pd.read_csv('breast_cancer.csv')"
   ]
  },
  {
   "cell_type": "code",
   "execution_count": 6,
   "metadata": {},
   "outputs": [
    {
     "data": {
      "text/html": [
       "<div>\n",
       "<style scoped>\n",
       "    .dataframe tbody tr th:only-of-type {\n",
       "        vertical-align: middle;\n",
       "    }\n",
       "\n",
       "    .dataframe tbody tr th {\n",
       "        vertical-align: top;\n",
       "    }\n",
       "\n",
       "    .dataframe thead th {\n",
       "        text-align: right;\n",
       "    }\n",
       "</style>\n",
       "<table border=\"1\" class=\"dataframe\">\n",
       "  <thead>\n",
       "    <tr style=\"text-align: right;\">\n",
       "      <th></th>\n",
       "      <th>age</th>\n",
       "      <th>menopause</th>\n",
       "      <th>tumor-size</th>\n",
       "      <th>inv-nodes</th>\n",
       "      <th>node-caps</th>\n",
       "      <th>deg-malig</th>\n",
       "      <th>breast</th>\n",
       "      <th>breast-quad</th>\n",
       "      <th>irradiat</th>\n",
       "      <th>Class</th>\n",
       "    </tr>\n",
       "  </thead>\n",
       "  <tbody>\n",
       "    <tr>\n",
       "      <th>0</th>\n",
       "      <td>30-39</td>\n",
       "      <td>premeno</td>\n",
       "      <td>30-34</td>\n",
       "      <td>0-2</td>\n",
       "      <td>no</td>\n",
       "      <td>3</td>\n",
       "      <td>left</td>\n",
       "      <td>left_low</td>\n",
       "      <td>no</td>\n",
       "      <td>no-recurrence-events</td>\n",
       "    </tr>\n",
       "    <tr>\n",
       "      <th>1</th>\n",
       "      <td>40-49</td>\n",
       "      <td>premeno</td>\n",
       "      <td>20-24</td>\n",
       "      <td>0-2</td>\n",
       "      <td>no</td>\n",
       "      <td>2</td>\n",
       "      <td>right</td>\n",
       "      <td>right_up</td>\n",
       "      <td>no</td>\n",
       "      <td>no-recurrence-events</td>\n",
       "    </tr>\n",
       "    <tr>\n",
       "      <th>2</th>\n",
       "      <td>40-49</td>\n",
       "      <td>premeno</td>\n",
       "      <td>20-24</td>\n",
       "      <td>0-2</td>\n",
       "      <td>no</td>\n",
       "      <td>2</td>\n",
       "      <td>left</td>\n",
       "      <td>left_low</td>\n",
       "      <td>no</td>\n",
       "      <td>no-recurrence-events</td>\n",
       "    </tr>\n",
       "    <tr>\n",
       "      <th>3</th>\n",
       "      <td>60-69</td>\n",
       "      <td>ge40</td>\n",
       "      <td>15-19</td>\n",
       "      <td>0-2</td>\n",
       "      <td>no</td>\n",
       "      <td>2</td>\n",
       "      <td>right</td>\n",
       "      <td>left_up</td>\n",
       "      <td>no</td>\n",
       "      <td>no-recurrence-events</td>\n",
       "    </tr>\n",
       "    <tr>\n",
       "      <th>4</th>\n",
       "      <td>40-49</td>\n",
       "      <td>premeno</td>\n",
       "      <td>0-4</td>\n",
       "      <td>0-2</td>\n",
       "      <td>no</td>\n",
       "      <td>2</td>\n",
       "      <td>right</td>\n",
       "      <td>right_low</td>\n",
       "      <td>no</td>\n",
       "      <td>no-recurrence-events</td>\n",
       "    </tr>\n",
       "  </tbody>\n",
       "</table>\n",
       "</div>"
      ],
      "text/plain": [
       "     age menopause tumor-size inv-nodes node-caps  deg-malig breast  \\\n",
       "0  30-39   premeno      30-34       0-2        no          3   left   \n",
       "1  40-49   premeno      20-24       0-2        no          2  right   \n",
       "2  40-49   premeno      20-24       0-2        no          2   left   \n",
       "3  60-69      ge40      15-19       0-2        no          2  right   \n",
       "4  40-49   premeno        0-4       0-2        no          2  right   \n",
       "\n",
       "  breast-quad irradiat                 Class  \n",
       "0    left_low       no  no-recurrence-events  \n",
       "1    right_up       no  no-recurrence-events  \n",
       "2    left_low       no  no-recurrence-events  \n",
       "3     left_up       no  no-recurrence-events  \n",
       "4   right_low       no  no-recurrence-events  "
      ]
     },
     "execution_count": 6,
     "metadata": {},
     "output_type": "execute_result"
    }
   ],
   "source": [
    "data.head()"
   ]
  },
  {
   "cell_type": "code",
   "execution_count": 7,
   "metadata": {},
   "outputs": [
    {
     "data": {
      "text/html": [
       "<div>\n",
       "<style scoped>\n",
       "    .dataframe tbody tr th:only-of-type {\n",
       "        vertical-align: middle;\n",
       "    }\n",
       "\n",
       "    .dataframe tbody tr th {\n",
       "        vertical-align: top;\n",
       "    }\n",
       "\n",
       "    .dataframe thead th {\n",
       "        text-align: right;\n",
       "    }\n",
       "</style>\n",
       "<table border=\"1\" class=\"dataframe\">\n",
       "  <thead>\n",
       "    <tr style=\"text-align: right;\">\n",
       "      <th></th>\n",
       "      <th>deg-malig</th>\n",
       "    </tr>\n",
       "  </thead>\n",
       "  <tbody>\n",
       "    <tr>\n",
       "      <th>count</th>\n",
       "      <td>286.000000</td>\n",
       "    </tr>\n",
       "    <tr>\n",
       "      <th>mean</th>\n",
       "      <td>2.048951</td>\n",
       "    </tr>\n",
       "    <tr>\n",
       "      <th>std</th>\n",
       "      <td>0.738217</td>\n",
       "    </tr>\n",
       "    <tr>\n",
       "      <th>min</th>\n",
       "      <td>1.000000</td>\n",
       "    </tr>\n",
       "    <tr>\n",
       "      <th>25%</th>\n",
       "      <td>2.000000</td>\n",
       "    </tr>\n",
       "    <tr>\n",
       "      <th>50%</th>\n",
       "      <td>2.000000</td>\n",
       "    </tr>\n",
       "    <tr>\n",
       "      <th>75%</th>\n",
       "      <td>3.000000</td>\n",
       "    </tr>\n",
       "    <tr>\n",
       "      <th>max</th>\n",
       "      <td>3.000000</td>\n",
       "    </tr>\n",
       "  </tbody>\n",
       "</table>\n",
       "</div>"
      ],
      "text/plain": [
       "        deg-malig\n",
       "count  286.000000\n",
       "mean     2.048951\n",
       "std      0.738217\n",
       "min      1.000000\n",
       "25%      2.000000\n",
       "50%      2.000000\n",
       "75%      3.000000\n",
       "max      3.000000"
      ]
     },
     "execution_count": 7,
     "metadata": {},
     "output_type": "execute_result"
    }
   ],
   "source": [
    "data.describe()"
   ]
  },
  {
   "cell_type": "code",
   "execution_count": 8,
   "metadata": {},
   "outputs": [
    {
     "data": {
      "text/plain": [
       "(286, 10)"
      ]
     },
     "execution_count": 8,
     "metadata": {},
     "output_type": "execute_result"
    }
   ],
   "source": [
    "data.shape"
   ]
  },
  {
   "cell_type": "code",
   "execution_count": null,
   "metadata": {},
   "outputs": [
    {
     "name": "stdout",
     "output_type": "stream",
     "text": [
      "<class 'pandas.core.frame.DataFrame'>\n",
      "RangeIndex: 286 entries, 0 to 285\n",
      "Data columns (total 10 columns):\n",
      " #   Column       Non-Null Count  Dtype \n",
      "---  ------       --------------  ----- \n",
      " 0   age          286 non-null    object\n",
      " 1   menopause    286 non-null    object\n",
      " 2   tumor-size   286 non-null    object\n",
      " 3   inv-nodes    286 non-null    object\n",
      " 4   node-caps    278 non-null    object\n",
      " 5   deg-malig    286 non-null    int64 \n",
      " 6   breast       286 non-null    object\n",
      " 7   breast-quad  285 non-null    object\n",
      " 8   irradiat     286 non-null    object\n",
      " 9   Class        286 non-null    object\n",
      "dtypes: int64(1), object(9)\n",
      "memory usage: 22.5+ KB\n"
     ]
    }
   ],
   "source": [
    "data.info()"
   ]
  },
  {
   "cell_type": "code",
   "execution_count": 10,
   "metadata": {},
   "outputs": [
    {
     "data": {
      "text/plain": [
       "age            0\n",
       "menopause      0\n",
       "tumor-size     0\n",
       "inv-nodes      0\n",
       "node-caps      8\n",
       "deg-malig      0\n",
       "breast         0\n",
       "breast-quad    1\n",
       "irradiat       0\n",
       "Class          0\n",
       "dtype: int64"
      ]
     },
     "execution_count": 10,
     "metadata": {},
     "output_type": "execute_result"
    }
   ],
   "source": [
    "data.isnull().sum()"
   ]
  },
  {
   "cell_type": "code",
   "execution_count": 11,
   "metadata": {},
   "outputs": [
    {
     "data": {
      "text/plain": [
       "age            object\n",
       "menopause      object\n",
       "tumor-size     object\n",
       "inv-nodes      object\n",
       "node-caps      object\n",
       "deg-malig       int64\n",
       "breast         object\n",
       "breast-quad    object\n",
       "irradiat       object\n",
       "Class          object\n",
       "dtype: object"
      ]
     },
     "execution_count": 11,
     "metadata": {},
     "output_type": "execute_result"
    }
   ],
   "source": [
    "data.dtypes"
   ]
  },
  {
   "cell_type": "code",
   "execution_count": 12,
   "metadata": {},
   "outputs": [
    {
     "name": "stderr",
     "output_type": "stream",
     "text": [
      "/tmp/ipykernel_35971/2738075337.py:2: FutureWarning: A value is trying to be set on a copy of a DataFrame or Series through chained assignment using an inplace method.\n",
      "The behavior will change in pandas 3.0. This inplace method will never work because the intermediate object on which we are setting values always behaves as a copy.\n",
      "\n",
      "For example, when doing 'df[col].method(value, inplace=True)', try using 'df.method({col: value}, inplace=True)' or df[col] = df[col].method(value) instead, to perform the operation inplace on the original object.\n",
      "\n",
      "\n",
      "  data['node-caps'].fillna(data['node-caps'].mode()[0], inplace=True)\n",
      "/tmp/ipykernel_35971/2738075337.py:3: FutureWarning: A value is trying to be set on a copy of a DataFrame or Series through chained assignment using an inplace method.\n",
      "The behavior will change in pandas 3.0. This inplace method will never work because the intermediate object on which we are setting values always behaves as a copy.\n",
      "\n",
      "For example, when doing 'df[col].method(value, inplace=True)', try using 'df.method({col: value}, inplace=True)' or df[col] = df[col].method(value) instead, to perform the operation inplace on the original object.\n",
      "\n",
      "\n",
      "  data['breast-quad'].fillna(data['breast-quad'].mode()[0], inplace=True)\n"
     ]
    }
   ],
   "source": [
    "# Filling missing values in 'node-caps' and 'breast-quad' with the mode (most frequent value)\n",
    "data['node-caps'].fillna(data['node-caps'].mode()[0], inplace=True)\n",
    "data['breast-quad'].fillna(data['breast-quad'].mode()[0], inplace=True)\n"
   ]
  },
  {
   "cell_type": "code",
   "execution_count": 13,
   "metadata": {},
   "outputs": [
    {
     "data": {
      "text/plain": [
       "age            0\n",
       "menopause      0\n",
       "tumor-size     0\n",
       "inv-nodes      0\n",
       "node-caps      0\n",
       "deg-malig      0\n",
       "breast         0\n",
       "breast-quad    0\n",
       "irradiat       0\n",
       "Class          0\n",
       "dtype: int64"
      ]
     },
     "execution_count": 13,
     "metadata": {},
     "output_type": "execute_result"
    }
   ],
   "source": [
    "data.isnull().sum()"
   ]
  },
  {
   "cell_type": "code",
   "execution_count": 14,
   "metadata": {},
   "outputs": [
    {
     "data": {
      "text/html": [
       "<div>\n",
       "<style scoped>\n",
       "    .dataframe tbody tr th:only-of-type {\n",
       "        vertical-align: middle;\n",
       "    }\n",
       "\n",
       "    .dataframe tbody tr th {\n",
       "        vertical-align: top;\n",
       "    }\n",
       "\n",
       "    .dataframe thead th {\n",
       "        text-align: right;\n",
       "    }\n",
       "</style>\n",
       "<table border=\"1\" class=\"dataframe\">\n",
       "  <thead>\n",
       "    <tr style=\"text-align: right;\">\n",
       "      <th></th>\n",
       "      <th>age</th>\n",
       "      <th>menopause</th>\n",
       "      <th>tumor-size</th>\n",
       "      <th>inv-nodes</th>\n",
       "      <th>node-caps</th>\n",
       "      <th>deg-malig</th>\n",
       "      <th>breast</th>\n",
       "      <th>breast-quad</th>\n",
       "      <th>irradiat</th>\n",
       "      <th>Class</th>\n",
       "    </tr>\n",
       "  </thead>\n",
       "  <tbody>\n",
       "    <tr>\n",
       "      <th>0</th>\n",
       "      <td>30-39</td>\n",
       "      <td>premeno</td>\n",
       "      <td>30-34</td>\n",
       "      <td>0-2</td>\n",
       "      <td>no</td>\n",
       "      <td>3</td>\n",
       "      <td>left</td>\n",
       "      <td>left_low</td>\n",
       "      <td>no</td>\n",
       "      <td>no-recurrence-events</td>\n",
       "    </tr>\n",
       "    <tr>\n",
       "      <th>1</th>\n",
       "      <td>40-49</td>\n",
       "      <td>premeno</td>\n",
       "      <td>20-24</td>\n",
       "      <td>0-2</td>\n",
       "      <td>no</td>\n",
       "      <td>2</td>\n",
       "      <td>right</td>\n",
       "      <td>right_up</td>\n",
       "      <td>no</td>\n",
       "      <td>no-recurrence-events</td>\n",
       "    </tr>\n",
       "    <tr>\n",
       "      <th>2</th>\n",
       "      <td>40-49</td>\n",
       "      <td>premeno</td>\n",
       "      <td>20-24</td>\n",
       "      <td>0-2</td>\n",
       "      <td>no</td>\n",
       "      <td>2</td>\n",
       "      <td>left</td>\n",
       "      <td>left_low</td>\n",
       "      <td>no</td>\n",
       "      <td>no-recurrence-events</td>\n",
       "    </tr>\n",
       "    <tr>\n",
       "      <th>3</th>\n",
       "      <td>60-69</td>\n",
       "      <td>ge40</td>\n",
       "      <td>15-19</td>\n",
       "      <td>0-2</td>\n",
       "      <td>no</td>\n",
       "      <td>2</td>\n",
       "      <td>right</td>\n",
       "      <td>left_up</td>\n",
       "      <td>no</td>\n",
       "      <td>no-recurrence-events</td>\n",
       "    </tr>\n",
       "    <tr>\n",
       "      <th>4</th>\n",
       "      <td>40-49</td>\n",
       "      <td>premeno</td>\n",
       "      <td>0-4</td>\n",
       "      <td>0-2</td>\n",
       "      <td>no</td>\n",
       "      <td>2</td>\n",
       "      <td>right</td>\n",
       "      <td>right_low</td>\n",
       "      <td>no</td>\n",
       "      <td>no-recurrence-events</td>\n",
       "    </tr>\n",
       "  </tbody>\n",
       "</table>\n",
       "</div>"
      ],
      "text/plain": [
       "     age menopause tumor-size inv-nodes node-caps  deg-malig breast  \\\n",
       "0  30-39   premeno      30-34       0-2        no          3   left   \n",
       "1  40-49   premeno      20-24       0-2        no          2  right   \n",
       "2  40-49   premeno      20-24       0-2        no          2   left   \n",
       "3  60-69      ge40      15-19       0-2        no          2  right   \n",
       "4  40-49   premeno        0-4       0-2        no          2  right   \n",
       "\n",
       "  breast-quad irradiat                 Class  \n",
       "0    left_low       no  no-recurrence-events  \n",
       "1    right_up       no  no-recurrence-events  \n",
       "2    left_low       no  no-recurrence-events  \n",
       "3     left_up       no  no-recurrence-events  \n",
       "4   right_low       no  no-recurrence-events  "
      ]
     },
     "execution_count": 14,
     "metadata": {},
     "output_type": "execute_result"
    }
   ],
   "source": [
    "data.head()"
   ]
  },
  {
   "cell_type": "code",
   "execution_count": 22,
   "metadata": {},
   "outputs": [
    {
     "name": "stdout",
     "output_type": "stream",
     "text": [
      "Index(['deg-malig'], dtype='object')\n"
     ]
    }
   ],
   "source": [
    "# Checking for numeric columns\n",
    "numeric_features = data.select_dtypes(include=[np.number]).columns\n",
    "print(numeric_features)\n"
   ]
  },
  {
   "cell_type": "code",
   "execution_count": 23,
   "metadata": {},
   "outputs": [],
   "source": [
    "# Import necessary libraries\n",
    "import pandas as pd\n",
    "import numpy as np\n",
    "from sklearn.model_selection import train_test_split\n",
    "from sklearn.preprocessing import StandardScaler\n",
    "import matplotlib.pyplot as plt\n",
    "\n",
    "# Load dataset\n",
    "data = pd.read_csv('breast_cancer.csv')\n",
    "\n",
    "# Data Preprocessing\n",
    "# Convert categorical variables to numerical using one-hot encoding\n",
    "data_encoded = pd.get_dummies(data, drop_first=True, dtype=int)\n",
    "\n",
    "# Separate features and target\n",
    "X = data_encoded.drop('Class_recurrence-events', axis=1)  # Class column is the target\n",
    "y = data_encoded['Class_recurrence-events']\n",
    "\n",
    "# Identify numeric columns for scaling\n",
    "numeric_features = ['deg-malig']\n",
    "categorical_features = X.columns.difference(numeric_features)\n",
    "\n",
    "# Scale only the numeric features\n",
    "scaler = StandardScaler()\n",
    "X[numeric_features] = scaler.fit_transform(X[numeric_features])\n",
    "\n",
    "# Re-combine numeric and categorical data (already encoded by get_dummies)\n",
    "X_scaled = X[categorical_features].join(X[numeric_features])\n",
    "\n",
    "# Split the dataset into training (70%) and testing (30%)\n",
    "X_train, X_test, y_train, y_test = train_test_split(X_scaled, y, test_size=0.3, random_state=42)"
   ]
  },
  {
   "cell_type": "code",
   "execution_count": 3,
   "metadata": {},
   "outputs": [
    {
     "name": "stdout",
     "output_type": "stream",
     "text": [
      "(200, 31) (86, 31) (200,) (86,)\n",
      "Epoch 0, Error: 0.19832448960390386\n",
      "Epoch 100, Error: 0.11797128324639945\n",
      "Epoch 200, Error: 0.11130950568357045\n",
      "Epoch 300, Error: 0.10680184774073406\n",
      "Epoch 400, Error: 0.10332787043701484\n",
      "Epoch 500, Error: 0.10057371775170637\n",
      "Epoch 600, Error: 0.09832318793033501\n",
      "Epoch 700, Error: 0.09643510758781774\n",
      "Epoch 800, Error: 0.09481833061814479\n",
      "Epoch 900, Error: 0.09341255951559259\n"
     ]
    },
    {
     "data": {
      "image/png": "[encoded data removed]",
      "text/plain": [
       "<Figure size 640x480 with 1 Axes>"
      ]
     },
     "metadata": {},
     "output_type": "display_data"
    },
    {
     "name": "stdout",
     "output_type": "stream",
     "text": [
      "Confusion Matrix:\n",
      " [[51  8]\n",
      " [22  5]]\n",
      "Classification Report:\n",
      "               precision    recall  f1-score   support\n",
      "\n",
      "           0       0.70      0.86      0.77        59\n",
      "           1       0.38      0.19      0.25        27\n",
      "\n",
      "    accuracy                           0.65        86\n",
      "   macro avg       0.54      0.52      0.51        86\n",
      "weighted avg       0.60      0.65      0.61        86\n",
      "\n"
     ]
    }
   ],
   "source": [
    "# Import necessary libraries\n",
    "import pandas as pd\n",
    "import numpy as np\n",
    "from sklearn.model_selection import train_test_split\n",
    "from sklearn.preprocessing import StandardScaler\n",
    "import matplotlib.pyplot as plt\n",
    "from sklearn.metrics import confusion_matrix, classification_report\n",
    "\n",
    "# Load dataset\n",
    "data = pd.read_csv('breast_cancer.csv')\n",
    "\n",
    "# Data Preprocessing\n",
    "# Convert categorical variables to numerical using one-hot encoding\n",
    "data_encoded = pd.get_dummies(data, drop_first=True, dtype=int)\n",
    "\n",
    "# Separate features and target\n",
    "X = data_encoded.drop('Class_recurrence-events', axis=1)  # Class column is the target\n",
    "y = data_encoded['Class_recurrence-events']\n",
    "\n",
    "\n",
    "# Identify numeric columns for scaling\n",
    "numeric_features = ['deg-malig']\n",
    "categorical_features = X.columns.difference(numeric_features)\n",
    "\n",
    "# Scale only the numeric features\n",
    "scaler = StandardScaler()\n",
    "X[numeric_features] = scaler.fit_transform(X[numeric_features])\n",
    "\n",
    "# Re-combine numeric and categorical data (already encoded by get_dummies)\n",
    "X_scaled = X[categorical_features].join(X[numeric_features])\n",
    "\n",
    "# Split the dataset into training (70%) and testing (30%)\n",
    "X_train, X_test, y_train, y_test = train_test_split(X_scaled, y, test_size=0.3, random_state=42) \n",
    "\n",
    "print(X_train.shape, X_test.shape, y_train.shape, y_test.shape)\n",
    "\n",
    "# Hyperparameters\n",
    "learning_rate = 0.001\n",
    "epochs = 1000  # Number of iterations\n",
    "errors = []\n",
    "\n",
    "# Sigmoid activation function\n",
    "def sigmoid(z):\n",
    "    # Ensure z is a numpy array with correct dtype\n",
    "    z = np.array(z, dtype=np.float64)\n",
    "    return 1 / (1 + np.exp(-z))\n",
    "\n",
    "# Derivative of sigmoid function\n",
    "def sigmoid_derivative(z):\n",
    "    return z * (1 - z)\n",
    "\n",
    "# Initialize weights and biases\n",
    "input_layer_neurons = X_train.shape[1]  # Number of features\n",
    "hidden_layer_neurons = 10  # Arbitrary number of neurons in hidden layer\n",
    "output_neurons = 1  # Output layer\n",
    "\n",
    "# Randomly initialize weights and biases\n",
    "np.random.seed(42)\n",
    "weights_input_hidden = np.random.randn(input_layer_neurons, hidden_layer_neurons)\n",
    "bias_hidden = np.random.randn(1, hidden_layer_neurons)\n",
    "weights_hidden_output = np.random.randn(hidden_layer_neurons, output_neurons)\n",
    "bias_output = np.random.randn(1, output_neurons) \n",
    "\n",
    "# Error calculation (Mean Squared Error)\n",
    "def compute_error(y_true, y_pred):\n",
    "    return 0.5 * np.mean((y_true - y_pred) ** 2)\n",
    "\n",
    "# Forward propagation function\n",
    "def forward_propagation(X, weights_input_hidden, bias_hidden, weights_hidden_output, bias_output):\n",
    "    # Input to hidden layer\n",
    "    z_hidden = np.dot(X, weights_input_hidden) + bias_hidden\n",
    "    a_hidden = sigmoid(z_hidden)\n",
    "    \n",
    "    # Hidden layer to output layer\n",
    "    z_output = np.dot(a_hidden, weights_hidden_output) + bias_output\n",
    "    a_output = sigmoid(z_output)\n",
    "    \n",
    "    return z_hidden, a_hidden, z_output, a_output\n",
    "\n",
    "# Backpropagation function to update weights and biases\n",
    "def backpropagation(X, y, z_hidden, a_hidden, z_output, a_output):\n",
    "    global weights_input_hidden, bias_hidden, weights_hidden_output, bias_output\n",
    "    \n",
    "    # Calculate output error\n",
    "    error_output = a_output - y\n",
    "    d_output = error_output * sigmoid_derivative(a_output)\n",
    "    \n",
    "    # Calculate hidden layer error\n",
    "    error_hidden = d_output.dot(weights_hidden_output.T)\n",
    "    d_hidden = error_hidden * sigmoid_derivative(a_hidden)\n",
    "    \n",
    "    # Update weights and biases\n",
    "    weights_hidden_output -= learning_rate * a_hidden.T.dot(d_output)\n",
    "    bias_output -= learning_rate * np.sum(d_output, axis=0, keepdims=True)\n",
    "    \n",
    "    weights_input_hidden -= learning_rate * X.T.dot(d_hidden)\n",
    "    bias_hidden -= learning_rate * np.sum(d_hidden, axis=0, keepdims=True)\n",
    "\n",
    "# Training the neural network\n",
    "for epoch in range(epochs):\n",
    "    # Forward propagation\n",
    "    z_hidden, a_hidden, z_output, a_output = forward_propagation(X_train.values, weights_input_hidden, bias_hidden, weights_hidden_output, bias_output)\n",
    "    \n",
    "    # Compute error\n",
    "    error = compute_error(y_train.values.reshape(-1, 1), a_output)\n",
    "    errors.append(error)\n",
    "    \n",
    "    # Backpropagation to update weights and biases\n",
    "    backpropagation(X_train.values, y_train.values.reshape(-1, 1), z_hidden, a_hidden, z_output, a_output)\n",
    "    \n",
    "    # Print error for every 100th epoch\n",
    "    if epoch % 100 == 0:\n",
    "        print(f\"Epoch {epoch}, Error: {error}\")\n",
    "\n",
    "# Plotting Error vs. Epochs curve\n",
    "plt.plot(errors)\n",
    "plt.title('Error vs. Epochs')\n",
    "plt.xlabel('Epochs')\n",
    "plt.ylabel('Error')\n",
    "plt.show()\n",
    "\n",
    "# Testing the neural network\n",
    "_, _, _, a_output_test = forward_propagation(X_test.values, weights_input_hidden, bias_hidden, weights_hidden_output, bias_output)\n",
    "y_pred = np.round(a_output_test)\n",
    "\n",
    "# Confusion Matrix\n",
    "conf_matrix = confusion_matrix(y_test, y_pred)\n",
    "print(\"Confusion Matrix:\\n\", conf_matrix)\n",
    "\n",
    "# Classification Report\n",
    "report = classification_report(y_test, y_pred)\n",
    "print(\"Classification Report:\\n\", report)\n"
   ]
  },
  {
   "cell_type": "markdown",
   "metadata": {},
   "source": [
    "### K-Fold Cross Validation"
   ]
  },
  {
   "cell_type": "code",
   "execution_count": 2,
   "metadata": {},
   "outputs": [
    {
     "name": "stdout",
     "output_type": "stream",
     "text": [
      "Fold 1:\n",
      "Accuracy: 0.5517\n",
      "Classification Report:\n",
      "               precision    recall  f1-score   support\n",
      "\n",
      "       False       0.60      0.86      0.71        37\n",
      "        True       0.00      0.00      0.00        21\n",
      "\n",
      "    accuracy                           0.55        58\n",
      "   macro avg       0.30      0.43      0.36        58\n",
      "weighted avg       0.39      0.55      0.45        58\n",
      "\n",
      "Confusion Matrix:\n",
      " [[32  5]\n",
      " [21  0]]\n"
     ]
    },
    {
     "data": {
      "image/png": "[encoded data removed]",
      "text/plain": [
       "<Figure size 600x400 with 2 Axes>"
      ]
     },
     "metadata": {},
     "output_type": "display_data"
    },
    {
     "name": "stdout",
     "output_type": "stream",
     "text": [
      "Fold 2:\n",
      "Accuracy: 0.7193\n",
      "Classification Report:\n",
      "               precision    recall  f1-score   support\n",
      "\n",
      "       False       0.75      0.93      0.83        42\n",
      "        True       0.40      0.13      0.20        15\n",
      "\n",
      "    accuracy                           0.72        57\n",
      "   macro avg       0.57      0.53      0.51        57\n",
      "weighted avg       0.66      0.72      0.66        57\n",
      "\n",
      "Confusion Matrix:\n",
      " [[39  3]\n",
      " [13  2]]\n"
     ]
    },
    {
     "data": {
      "image/png": "[encoded data removed]",
      "text/plain": [
       "<Figure size 600x400 with 2 Axes>"
      ]
     },
     "metadata": {},
     "output_type": "display_data"
    },
    {
     "name": "stdout",
     "output_type": "stream",
     "text": [
      "Fold 3:\n",
      "Accuracy: 0.7368\n",
      "Classification Report:\n",
      "               precision    recall  f1-score   support\n",
      "\n",
      "       False       0.76      0.93      0.84        42\n",
      "        True       0.50      0.20      0.29        15\n",
      "\n",
      "    accuracy                           0.74        57\n",
      "   macro avg       0.63      0.56      0.56        57\n",
      "weighted avg       0.70      0.74      0.69        57\n",
      "\n",
      "Confusion Matrix:\n",
      " [[39  3]\n",
      " [12  3]]\n"
     ]
    },
    {
     "data": {
      "image/png": "[encoded data removed]",
      "text/plain": [
       "<Figure size 600x400 with 2 Axes>"
      ]
     },
     "metadata": {},
     "output_type": "display_data"
    },
    {
     "name": "stdout",
     "output_type": "stream",
     "text": [
      "Fold 4:\n",
      "Accuracy: 0.5965\n",
      "Classification Report:\n",
      "               precision    recall  f1-score   support\n",
      "\n",
      "       False       0.64      0.89      0.75        38\n",
      "        True       0.00      0.00      0.00        19\n",
      "\n",
      "    accuracy                           0.60        57\n",
      "   macro avg       0.32      0.45      0.37        57\n",
      "weighted avg       0.43      0.60      0.50        57\n",
      "\n",
      "Confusion Matrix:\n",
      " [[34  4]\n",
      " [19  0]]\n"
     ]
    },
    {
     "data": {
      "image/png": "[encoded data removed]",
      "text/plain": [
       "<Figure size 600x400 with 2 Axes>"
      ]
     },
     "metadata": {},
     "output_type": "display_data"
    },
    {
     "name": "stdout",
     "output_type": "stream",
     "text": [
      "Fold 5:\n",
      "Accuracy: 0.7193\n",
      "Classification Report:\n",
      "               precision    recall  f1-score   support\n",
      "\n",
      "       False       0.76      0.90      0.83        42\n",
      "        True       0.43      0.20      0.27        15\n",
      "\n",
      "    accuracy                           0.72        57\n",
      "   macro avg       0.59      0.55      0.55        57\n",
      "weighted avg       0.67      0.72      0.68        57\n",
      "\n",
      "Confusion Matrix:\n",
      " [[38  4]\n",
      " [12  3]]\n"
     ]
    },
    {
     "data": {
      "image/png": "[encoded data removed]",
      "text/plain": [
       "<Figure size 600x400 with 2 Axes>"
      ]
     },
     "metadata": {},
     "output_type": "display_data"
    }
   ],
   "source": [
    "# Import necessary libraries\n",
    "import pandas as pd\n",
    "import numpy as np\n",
    "from sklearn.model_selection import KFold\n",
    "from sklearn.preprocessing import StandardScaler\n",
    "from sklearn.metrics import accuracy_score, classification_report, confusion_matrix\n",
    "import matplotlib.pyplot as plt\n",
    "import seaborn as sns\n",
    "\n",
    "# Load dataset\n",
    "data = pd.read_csv('breast_cancer.csv')\n",
    "\n",
    "# Data Preprocessing\n",
    "# Convert categorical variables to numerical using one-hot encoding\n",
    "data_encoded = pd.get_dummies(data, drop_first=True)\n",
    "\n",
    "# Separate features and target\n",
    "X = data_encoded.drop('Class_recurrence-events', axis=1)  # Class column is the target\n",
    "y = data_encoded['Class_recurrence-events']\n",
    "\n",
    "# Standardize the features\n",
    "scaler = StandardScaler()\n",
    "X_scaled = scaler.fit_transform(X)\n",
    "\n",
    "# Sigmoid activation function\n",
    "def sigmoid(z):\n",
    "    return 1 / (1 + np.exp(-z))\n",
    "\n",
    "# Derivative of sigmoid function\n",
    "def sigmoid_derivative(z):\n",
    "    return z * (1 - z)\n",
    "\n",
    "# Initialize weights and biases\n",
    "def initialize_parameters(input_layer_neurons, hidden_layer_neurons, output_neurons):\n",
    "    np.random.seed(42)\n",
    "    weights_input_hidden = np.random.randn(input_layer_neurons, hidden_layer_neurons)\n",
    "    bias_hidden = np.random.randn(1, hidden_layer_neurons)\n",
    "    weights_hidden_output = np.random.randn(hidden_layer_neurons, output_neurons)\n",
    "    bias_output = np.random.randn(1, output_neurons)\n",
    "    return weights_input_hidden, bias_hidden, weights_hidden_output, bias_output\n",
    "\n",
    "# Forward propagation function\n",
    "def forward_propagation(X, weights_input_hidden, bias_hidden, weights_hidden_output, bias_output):\n",
    "    # Input to hidden layer\n",
    "    z_hidden = np.dot(X, weights_input_hidden) + bias_hidden\n",
    "    a_hidden = sigmoid(z_hidden)\n",
    "    \n",
    "    # Hidden layer to output layer\n",
    "    z_output = np.dot(a_hidden, weights_hidden_output) + bias_output\n",
    "    a_output = sigmoid(z_output)\n",
    "    \n",
    "    return z_hidden, a_hidden, z_output, a_output\n",
    "\n",
    "# Error calculation (Mean Squared Error)\n",
    "def compute_error(y_true, y_pred):\n",
    "    return 0.5 * np.mean((y_true - y_pred) ** 2)\n",
    "\n",
    "# Backpropagation function to update weights and biases\n",
    "def backpropagation(X, y, z_hidden, a_hidden, z_output, a_output, weights_input_hidden, bias_hidden, weights_hidden_output, bias_output, learning_rate):\n",
    "    # Calculate output error\n",
    "    error_output = a_output - y\n",
    "    d_output = error_output * sigmoid_derivative(a_output)\n",
    "    \n",
    "    # Calculate hidden layer error\n",
    "    error_hidden = d_output.dot(weights_hidden_output.T)\n",
    "    d_hidden = error_hidden * sigmoid_derivative(a_hidden)\n",
    "    \n",
    "    # Update weights and biases\n",
    "    weights_hidden_output -= learning_rate * a_hidden.T.dot(d_output)\n",
    "    bias_output -= learning_rate * np.sum(d_output, axis=0, keepdims=True)\n",
    "    \n",
    "    weights_input_hidden -= learning_rate * X.T.dot(d_hidden)\n",
    "    bias_hidden -= learning_rate * np.sum(d_hidden, axis=0, keepdims=True)\n",
    "    \n",
    "    return weights_input_hidden, bias_hidden, weights_hidden_output, bias_output\n",
    "\n",
    "# K-Fold Cross-Validation Setup\n",
    "kf = KFold(n_splits=5, shuffle=True, random_state=42)\n",
    "\n",
    "# Hyperparameters\n",
    "input_layer_neurons = X_scaled.shape[1]  # Number of features\n",
    "hidden_layer_neurons = 10  # Arbitrary number of neurons in hidden layer\n",
    "output_neurons = 1  # Output layer\n",
    "learning_rate = 0.001\n",
    "epochs = 500\n",
    "\n",
    "# Cross-validation loop\n",
    "fold = 1\n",
    "for train_index, test_index in kf.split(X_scaled):\n",
    "    print(f\"Fold {fold}:\")\n",
    "\n",
    "    # Split the data\n",
    "    X_train, X_test = X_scaled[train_index], X_scaled[test_index]\n",
    "    y_train, y_test = y[train_index], y[test_index]\n",
    "\n",
    "    # Initialize parameters for each fold\n",
    "    weights_input_hidden, bias_hidden, weights_hidden_output, bias_output = initialize_parameters(input_layer_neurons, hidden_layer_neurons, output_neurons)\n",
    "\n",
    "    # Training the neural network\n",
    "    errors = []\n",
    "    for epoch in range(epochs):\n",
    "        # Forward propagation\n",
    "        z_hidden, a_hidden, z_output, a_output = forward_propagation(X_train, weights_input_hidden, bias_hidden, weights_hidden_output, bias_output)\n",
    "        \n",
    "        # Compute error\n",
    "        error = compute_error(y_train.values.reshape(-1, 1), a_output)\n",
    "        errors.append(error)\n",
    "        \n",
    "        # Backpropagation to update weights and biases\n",
    "        weights_input_hidden, bias_hidden, weights_hidden_output, bias_output = backpropagation(X_train, y_train.values.reshape(-1, 1), z_hidden, a_hidden, z_output, a_output, weights_input_hidden, bias_hidden, weights_hidden_output, bias_output, learning_rate)\n",
    "\n",
    "    # Testing the neural network\n",
    "    _, _, _, a_output_test = forward_propagation(X_test, weights_input_hidden, bias_hidden, weights_hidden_output, bias_output)\n",
    "    y_pred = np.round(a_output_test)\n",
    "\n",
    "    # Calculate accuracy\n",
    "    accuracy = accuracy_score(y_test, y_pred)\n",
    "    print(f\"Accuracy: {accuracy:.4f}\")\n",
    "\n",
    "    # Classification Report\n",
    "    report = classification_report(y_test, y_pred)\n",
    "    print(\"Classification Report:\\n\", report)\n",
    "\n",
    "    # Confusion Matrix\n",
    "    conf_matrix = confusion_matrix(y_test, y_pred)\n",
    "    print(\"Confusion Matrix:\\n\", conf_matrix)\n",
    "\n",
    "    # Plot Confusion Matrix\n",
    "    plt.figure(figsize=(6, 4))\n",
    "    sns.heatmap(conf_matrix, annot=True, fmt='d', cmap='Blues')\n",
    "    plt.title(f\"Confusion Matrix for Fold {fold}\")\n",
    "    plt.xlabel('Predicted')\n",
    "    plt.ylabel('Actual')\n",
    "    plt.show()\n",
    "\n",
    "    fold += 1"
   ]
  },
  {
   "cell_type": "markdown",
   "metadata": {},
   "source": [
    "### Shuffled Rows of the Dataset"
   ]
  },
  {
   "cell_type": "code",
   "execution_count": 1,
   "metadata": {},
   "outputs": [
    {
     "name": "stdout",
     "output_type": "stream",
     "text": [
      "Fold 1:\n",
      "Accuracy: 0.6897\n",
      "Classification Report:\n",
      "               precision    recall  f1-score   support\n",
      "\n",
      "       False       0.73      0.90      0.80        41\n",
      "        True       0.43      0.18      0.25        17\n",
      "\n",
      "    accuracy                           0.69        58\n",
      "   macro avg       0.58      0.54      0.53        58\n",
      "weighted avg       0.64      0.69      0.64        58\n",
      "\n",
      "Confusion Matrix:\n",
      " [[37  4]\n",
      " [14  3]]\n"
     ]
    },
    {
     "data": {
      "image/png": "[encoded data removed]",
      "text/plain": [
       "<Figure size 600x400 with 2 Axes>"
      ]
     },
     "metadata": {},
     "output_type": "display_data"
    },
    {
     "name": "stdout",
     "output_type": "stream",
     "text": [
      "Fold 2:\n",
      "Accuracy: 0.6842\n",
      "Classification Report:\n",
      "               precision    recall  f1-score   support\n",
      "\n",
      "       False       0.72      0.93      0.81        41\n",
      "        True       0.25      0.06      0.10        16\n",
      "\n",
      "    accuracy                           0.68        57\n",
      "   macro avg       0.48      0.49      0.45        57\n",
      "weighted avg       0.59      0.68      0.61        57\n",
      "\n",
      "Confusion Matrix:\n",
      " [[38  3]\n",
      " [15  1]]\n"
     ]
    },
    {
     "data": {
      "image/png": "[encoded data removed]",
      "text/plain": [
       "<Figure size 600x400 with 2 Axes>"
      ]
     },
     "metadata": {},
     "output_type": "display_data"
    },
    {
     "name": "stdout",
     "output_type": "stream",
     "text": [
      "Fold 3:\n",
      "Accuracy: 0.7368\n",
      "Classification Report:\n",
      "               precision    recall  f1-score   support\n",
      "\n",
      "       False       0.73      1.00      0.84        40\n",
      "        True       1.00      0.12      0.21        17\n",
      "\n",
      "    accuracy                           0.74        57\n",
      "   macro avg       0.86      0.56      0.53        57\n",
      "weighted avg       0.81      0.74      0.65        57\n",
      "\n",
      "Confusion Matrix:\n",
      " [[40  0]\n",
      " [15  2]]\n"
     ]
    },
    {
     "data": {
      "image/png": "[encoded data removed]",
      "text/plain": [
       "<Figure size 600x400 with 2 Axes>"
      ]
     },
     "metadata": {},
     "output_type": "display_data"
    },
    {
     "name": "stdout",
     "output_type": "stream",
     "text": [
      "Fold 4:\n",
      "Accuracy: 0.5965\n",
      "Classification Report:\n",
      "               precision    recall  f1-score   support\n",
      "\n",
      "       False       0.66      0.85      0.74        39\n",
      "        True       0.14      0.06      0.08        18\n",
      "\n",
      "    accuracy                           0.60        57\n",
      "   macro avg       0.40      0.45      0.41        57\n",
      "weighted avg       0.50      0.60      0.53        57\n",
      "\n",
      "Confusion Matrix:\n",
      " [[33  6]\n",
      " [17  1]]\n"
     ]
    },
    {
     "data": {
      "image/png": "[encoded data removed]",
      "text/plain": [
       "<Figure size 600x400 with 2 Axes>"
      ]
     },
     "metadata": {},
     "output_type": "display_data"
    },
    {
     "name": "stdout",
     "output_type": "stream",
     "text": [
      "Fold 5:\n",
      "Accuracy: 0.6842\n",
      "Classification Report:\n",
      "               precision    recall  f1-score   support\n",
      "\n",
      "       False       0.74      0.85      0.79        40\n",
      "        True       0.45      0.29      0.36        17\n",
      "\n",
      "    accuracy                           0.68        57\n",
      "   macro avg       0.60      0.57      0.57        57\n",
      "weighted avg       0.65      0.68      0.66        57\n",
      "\n",
      "Confusion Matrix:\n",
      " [[34  6]\n",
      " [12  5]]\n"
     ]
    },
    {
     "data": {
      "image/png": "[encoded data removed]",
      "text/plain": [
       "<Figure size 600x400 with 2 Axes>"
      ]
     },
     "metadata": {},
     "output_type": "display_data"
    }
   ],
   "source": [
    "# Import necessary libraries\n",
    "import pandas as pd\n",
    "import numpy as np\n",
    "from sklearn.model_selection import KFold\n",
    "from sklearn.preprocessing import StandardScaler\n",
    "from sklearn.metrics import accuracy_score, classification_report, confusion_matrix\n",
    "import matplotlib.pyplot as plt\n",
    "import seaborn as sns\n",
    "\n",
    "# Load dataset\n",
    "data = pd.read_csv('breast_cancer.csv')\n",
    "\n",
    "# Data Preprocessing\n",
    "# Convert categorical variables to numerical using one-hot encoding\n",
    "data_encoded = pd.get_dummies(data, drop_first=True)\n",
    "\n",
    "# Separate features and target\n",
    "X = data_encoded.drop('Class_recurrence-events', axis=1)  # Class column is the target\n",
    "y = data_encoded['Class_recurrence-events']\n",
    "\n",
    "# Standardize the features\n",
    "scaler = StandardScaler()\n",
    "X_scaled = scaler.fit_transform(X)\n",
    "\n",
    "# Shuffle the rows of the dataset after scaling\n",
    "shuffled_indices = np.random.permutation(len(X_scaled))\n",
    "X_scaled = X_scaled[shuffled_indices]\n",
    "y = y.values[shuffled_indices]  # Shuffle the target variable accordingly\n",
    "\n",
    "# Sigmoid activation function\n",
    "def sigmoid(z):\n",
    "    return 1 / (1 + np.exp(-z))\n",
    "\n",
    "# Derivative of sigmoid function\n",
    "def sigmoid_derivative(z):\n",
    "    return z * (1 - z)\n",
    "\n",
    "# Initialize weights and biases\n",
    "def initialize_parameters(input_layer_neurons, hidden_layer_neurons, output_neurons):\n",
    "    np.random.seed(42)\n",
    "    weights_input_hidden = np.random.randn(input_layer_neurons, hidden_layer_neurons)\n",
    "    bias_hidden = np.random.randn(1, hidden_layer_neurons)\n",
    "    weights_hidden_output = np.random.randn(hidden_layer_neurons, output_neurons)\n",
    "    bias_output = np.random.randn(1, output_neurons)\n",
    "    return weights_input_hidden, bias_hidden, weights_hidden_output, bias_output\n",
    "\n",
    "# Forward propagation function\n",
    "def forward_propagation(X, weights_input_hidden, bias_hidden, weights_hidden_output, bias_output):\n",
    "    # Input to hidden layer\n",
    "    z_hidden = np.dot(X, weights_input_hidden) + bias_hidden\n",
    "    a_hidden = sigmoid(z_hidden)\n",
    "    \n",
    "    # Hidden layer to output layer\n",
    "    z_output = np.dot(a_hidden, weights_hidden_output) + bias_output\n",
    "    a_output = sigmoid(z_output)\n",
    "    \n",
    "    return z_hidden, a_hidden, z_output, a_output\n",
    "\n",
    "# Error calculation (Mean Squared Error)\n",
    "def compute_error(y_true, y_pred):\n",
    "    return 0.5 * np.mean((y_true - y_pred) ** 2)\n",
    "\n",
    "# Backpropagation function to update weights and biases\n",
    "def backpropagation(X, y, z_hidden, a_hidden, z_output, a_output, weights_input_hidden, bias_hidden, weights_hidden_output, bias_output, learning_rate):\n",
    "    # Calculate output error\n",
    "    error_output = a_output - y\n",
    "    d_output = error_output * sigmoid_derivative(a_output)\n",
    "    \n",
    "    # Calculate hidden layer error\n",
    "    error_hidden = d_output.dot(weights_hidden_output.T)\n",
    "    d_hidden = error_hidden * sigmoid_derivative(a_hidden)\n",
    "    \n",
    "    # Update weights and biases\n",
    "    weights_hidden_output -= learning_rate * a_hidden.T.dot(d_output)\n",
    "    bias_output -= learning_rate * np.sum(d_output, axis=0, keepdims=True)\n",
    "    \n",
    "    weights_input_hidden -= learning_rate * X.T.dot(d_hidden)\n",
    "    bias_hidden -= learning_rate * np.sum(d_hidden, axis=0, keepdims=True)\n",
    "    \n",
    "    return weights_input_hidden, bias_hidden, weights_hidden_output, bias_output\n",
    "\n",
    "# K-Fold Cross-Validation Setup\n",
    "kf = KFold(n_splits=5, shuffle=True, random_state=42)\n",
    "\n",
    "# Hyperparameters\n",
    "input_layer_neurons = X_scaled.shape[1]  # Number of features\n",
    "hidden_layer_neurons = 10  # Arbitrary number of neurons in hidden layer\n",
    "output_neurons = 1  # Output layer\n",
    "learning_rate = 0.001\n",
    "epochs = 500\n",
    "\n",
    "# Cross-validation loop\n",
    "fold = 1\n",
    "for train_index, test_index in kf.split(X_scaled):\n",
    "    print(f\"Fold {fold}:\")\n",
    "\n",
    "    # Split the data\n",
    "    X_train, X_test = X_scaled[train_index], X_scaled[test_index]\n",
    "    y_train, y_test = y[train_index], y[test_index]\n",
    "\n",
    "    # Initialize parameters for each fold\n",
    "    weights_input_hidden, bias_hidden, weights_hidden_output, bias_output = initialize_parameters(input_layer_neurons, hidden_layer_neurons, output_neurons)\n",
    "\n",
    "    # Training the neural network\n",
    "    errors = []\n",
    "    for epoch in range(epochs):\n",
    "        # Forward propagation\n",
    "        z_hidden, a_hidden, z_output, a_output = forward_propagation(X_train, weights_input_hidden, bias_hidden, weights_hidden_output, bias_output)\n",
    "        \n",
    "        # Compute error\n",
    "        error = compute_error(y_train.reshape(-1, 1), a_output)\n",
    "        errors.append(error)\n",
    "        \n",
    "        # Backpropagation to update weights and biases\n",
    "        weights_input_hidden, bias_hidden, weights_hidden_output, bias_output = backpropagation(X_train, y_train.reshape(-1, 1), z_hidden, a_hidden, z_output, a_output, weights_input_hidden, bias_hidden, weights_hidden_output, bias_output, learning_rate)\n",
    "\n",
    "    # Testing the neural network\n",
    "    _, _, _, a_output_test = forward_propagation(X_test, weights_input_hidden, bias_hidden, weights_hidden_output, bias_output)\n",
    "    y_pred = np.round(a_output_test)\n",
    "\n",
    "    # Calculate accuracy\n",
    "    accuracy = accuracy_score(y_test, y_pred)\n",
    "    print(f\"Accuracy: {accuracy:.4f}\")\n",
    "\n",
    "    # Classification Report\n",
    "    report = classification_report(y_test, y_pred)\n",
    "    print(\"Classification Report:\\n\", report)\n",
    "\n",
    "    # Confusion Matrix\n",
    "    conf_matrix = confusion_matrix(y_test, y_pred)\n",
    "    print(\"Confusion Matrix:\\n\", conf_matrix)\n",
    "\n",
    "    # Plot Confusion Matrix\n",
    "    plt.figure(figsize=(6, 4))\n",
    "    sns.heatmap(conf_matrix, annot=True, fmt='d', cmap='Blues')\n",
    "    plt.title(f\"Confusion Matrix for Fold {fold}\")\n",
    "    plt.xlabel('Predicted')\n",
    "    plt.ylabel('Actual')\n",
    "    plt.show()\n",
    "\n",
    "    fold += 1\n"
   ]
  },
  {
   "cell_type": "code",
   "execution_count": null,
   "metadata": {},
   "outputs": [],
   "source": []
  },
  {
   "cell_type": "code",
   "execution_count": 40,
   "metadata": {},
   "outputs": [
    {
     "name": "stdout",
     "output_type": "stream",
     "text": [
      "(200, 31) (86, 31) (200,) (86,)\n",
      "Epoch 0, Error: 0.19832448960390386\n",
      "Epoch 100, Error: 0.11797128324639945\n",
      "Epoch 200, Error: 0.11130950568357045\n",
      "Epoch 300, Error: 0.10680184774073406\n",
      "Epoch 400, Error: 0.10332787043701484\n",
      "Epoch 500, Error: 0.10057371775170637\n",
      "Epoch 600, Error: 0.09832318793033501\n",
      "Epoch 700, Error: 0.09643510758781774\n",
      "Epoch 800, Error: 0.09481833061814479\n",
      "Epoch 900, Error: 0.09341255951559259\n"
     ]
    },
    {
     "data": {
      "image/png": "[encoded data removed]",
      "text/plain": [
       "<Figure size 640x480 with 1 Axes>"
      ]
     },
     "metadata": {},
     "output_type": "display_data"
    },
    {
     "name": "stdout",
     "output_type": "stream",
     "text": [
      "Confusion Matrix:\n",
      " [[51  8]\n",
      " [22  5]]\n",
      "Classification Report:\n",
      "               precision    recall  f1-score   support\n",
      "\n",
      "           0       0.70      0.86      0.77        59\n",
      "           1       0.38      0.19      0.25        27\n",
      "\n",
      "    accuracy                           0.65        86\n",
      "   macro avg       0.54      0.52      0.51        86\n",
      "weighted avg       0.60      0.65      0.61        86\n",
      "\n"
     ]
    }
   ],
   "source": []
  },
  {
   "cell_type": "code",
   "execution_count": null,
   "metadata": {},
   "outputs": [],
   "source": []
  }
 ],
 "metadata": {
  "kernelspec": {
   "display_name": "Python 3",
   "language": "python",
   "name": "python3"
  },
  "language_info": {
   "codemirror_mode": {
    "name": "ipython",
    "version": 3
   },
   "file_extension": ".py",
   "mimetype": "text/x-python",
   "name": "python",
   "nbconvert_exporter": "python",
   "pygments_lexer": "ipython3",
   "version": "3.12.1"
  }
 },
 "nbformat": 4,
 "nbformat_minor": 2
}
