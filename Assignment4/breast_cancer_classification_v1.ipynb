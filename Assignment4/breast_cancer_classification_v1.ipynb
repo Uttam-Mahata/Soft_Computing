{
 "cells": [
  {
   "cell_type": "markdown",
   "metadata": {},
   "source": [
    "# Breast Cancer Classification\n",
    "\n",
    "## 1. **Binary Classification Problem**\n",
    "\n",
    "The task is to classify a set of input data into one of two possible classes. Given a dataset with features $ \\mathbf{X} \\in \\mathbb{R}^{n \\times d} $ and a target vector $ \\mathbf{y} \\in \\{0, 1\\}^n $, the goal is to find a function $ f: \\mathbb{R}^d \\to \\{0, 1\\} $ that maps each input to its corresponding binary label.\n",
    "\n",
    "The neural network tries to approximate this mapping by minimizing the classification error using backpropagation and gradient descent.\n",
    "\n",
    "---\n",
    "\n",
    "## 2. **Neural Network Architecture**\n",
    "\n",
    "The neural network used in this script has three layers:\n",
    "\n",
    "1. **Input Layer**: Accepts the input features. The number of input neurons is equal to the number of features, denoted as $ d $.\n",
    "2. **Hidden Layer**: A single hidden layer with $ h $ neurons. Each neuron is connected to every input neuron.\n",
    "3. **Output Layer**: Outputs a single value representing the probability of the input belonging to class 1 (recurrence).\n",
    "\n",
    "The neural network’s structure is as follows:\n",
    "- Input features: $ \\mathbf{X} \\in \\mathbb{R}^{n \\times d} $\n",
    "- Hidden layer: $ h $ neurons\n",
    "- Output: $ \\hat{y} \\in \\mathbb{R}^{n \\times 1} $, predicted probabilities\n",
    "\n",
    "---\n",
    "\n",
    "## 3. **Forward Propagation**\n",
    "\n",
    "### 3.1 **Linear Combination (Weighted Sum)**\n",
    "\n",
    "The inputs to each layer are combined linearly using weights and biases.\n",
    "\n",
    "For the hidden layer, the input is:\n",
    "$\n",
    "\\mathbf{Z}^{(1)} = \\mathbf{X} \\mathbf{W}^{(1)} + \\mathbf{b}^{(1)}\n",
    "$\n",
    "Where:\n",
    "- $ \\mathbf{W}^{(1)} \\in \\mathbb{R}^{d \\times h} $ is the weight matrix between the input and hidden layer.\n",
    "- $ \\mathbf{b}^{(1)} \\in \\mathbb{R}^{1 \\times h} $ is the bias vector for the hidden layer.\n",
    "\n",
    "For the output layer, the input to the output neuron is:\n",
    "$\n",
    "\\mathbf{Z}^{(2)} = \\mathbf{A}^{(1)} \\mathbf{W}^{(2)} + \\mathbf{b}^{(2)}\n",
    "$\n",
    "Where:\n",
    "- $ \\mathbf{W}^{(2)} \\in \\mathbb{R}^{h \\times 1} $ is the weight matrix between the hidden and output layer.\n",
    "- $ \\mathbf{b}^{(2)} \\in \\mathbb{R}^{1 \\times 1} $ is the bias for the output layer.\n",
    "\n",
    "### 3.2 **Activation Function (Sigmoid)**\n",
    "\n",
    "The sigmoid function is applied to the linear combination in both the hidden and output layers. The sigmoid activation function is defined as:\n",
    "$\n",
    "\\sigma(z) = \\frac{1}{1 + e^{-z}}\n",
    "$\n",
    "\n",
    "In the hidden layer:\n",
    "$\n",
    "\\mathbf{A}^{(1)} = \\sigma(\\mathbf{Z}^{(1)})\n",
    "$\n",
    "In the output layer:\n",
    "$\n",
    "\\hat{\\mathbf{y}} = \\sigma(\\mathbf{Z}^{(2)})\n",
    "$\n",
    "\n",
    "This gives the predicted probability $ \\hat{\\mathbf{y}} \\in (0, 1) $.\n",
    "\n",
    "---\n",
    "\n",
    "## 4. **Error Calculation**\n",
    "\n",
    "The error between the predicted value $ \\hat{\\mathbf{y}} $ and the actual label $ \\mathbf{y} $ is computed using **mean squared error** (MSE):\n",
    "$\n",
    "\\mathcal{E}(\\mathbf{y}, \\hat{\\mathbf{y}}) = \\frac{1}{2} \\sum_{i=1}^{n} \\left( y_i - \\hat{y}_i \\right)^2\n",
    "$\n",
    "This is a measure of the discrepancy between the true and predicted values.\n",
    "\n",
    "---\n",
    "\n",
    "## 5. **Backpropagation**\n",
    "\n",
    "The goal of backpropagation is to minimize the error by updating the weights and biases. The updates are based on the gradients of the error with respect to the weights and biases, which are calculated using the chain rule of calculus.\n",
    "\n",
    "### 5.1 **Gradient of Error with Respect to Output**\n",
    "\n",
    "For the output layer, the error is:\n",
    "$\n",
    "\\delta^{(2)} = \\left( \\hat{\\mathbf{y}} - \\mathbf{y} \\right) \\cdot \\sigma'(\\mathbf{Z}^{(2)})\n",
    "$\n",
    "Where $ \\sigma'(\\mathbf{Z}^{(2)}) $ is the derivative of the sigmoid function, given by:\n",
    "$\n",
    "\\sigma'(z) = \\sigma(z) (1 - \\sigma(z))\n",
    "$\n",
    "\n",
    "### 5.2 **Gradient of Error with Respect to Hidden Layer**\n",
    "\n",
    "The error for the hidden layer is:\n",
    "$\n",
    "\\delta^{(1)} = \\delta^{(2)} \\mathbf{W}^{(2)T} \\cdot \\sigma'(\\mathbf{Z}^{(1)})\n",
    "$\n",
    "Where $ \\mathbf{W}^{(2)T} $ is the transpose of the weight matrix between the hidden and output layer.\n",
    "\n",
    "### 5.3 **Weight and Bias Updates**\n",
    "\n",
    "The weights and biases are updated using gradient descent. For the weights between the hidden and output layer:\n",
    "$\n",
    "\\mathbf{W}^{(2)} := \\mathbf{W}^{(2)} - \\eta \\mathbf{A}^{(1)T} \\delta^{(2)}\n",
    "$\n",
    "And the bias for the output layer is updated as:\n",
    "$\n",
    "\\mathbf{b}^{(2)} := \\mathbf{b}^{(2)} - \\eta \\delta^{(2)}\n",
    "$\n",
    "Similarly, for the weights between the input and hidden layer:\n",
    "$\n",
    "\\mathbf{W}^{(1)} := \\mathbf{W}^{(1)} - \\eta \\mathbf{X}^T \\delta^{(1)}\n",
    "$\n",
    "And the bias for the hidden layer is updated as:\n",
    "$\n",
    "\\mathbf{b}^{(1)} := \\mathbf{b}^{(1)} - \\eta \\delta^{(1)}\n",
    "$\n",
    "Where $ \\eta $ is the learning rate.\n",
    "\n",
    "---\n",
    "\n",
    "## 6. **K-Fold Cross-Validation**\n",
    "\n",
    "The training process is repeated using **K-Fold Cross-Validation**, which involves splitting the data into $ k $ subsets (folds). For each fold:\n",
    "- $ k-1 $ subsets are used for training.\n",
    "- The remaining subset is used for testing.\n",
    "\n",
    "This process is repeated for all folds, and the average performance metrics (accuracy, precision, recall, F1-score) are calculated across all folds.\n",
    "\n",
    "---\n",
    "\n",
    "## 7. **Final Metrics Calculation**\n",
    "\n",
    "### 7.1 **Confusion Matrix**\n",
    "\n",
    "The confusion matrix $ \\mathbf{C} $ is calculated as:\n",
    "$\n",
    "\\mathbf{C} = \\begin{pmatrix} \\text{True Negative (TN)} & \\text{False Positive (FP)} \\\\ \\text{False Negative (FN)} & \\text{True Positive (TP)} \\end{pmatrix}\n",
    "$\n",
    "\n",
    "### 7.2 **Accuracy**\n",
    "\n",
    "The accuracy measures the proportion of correctly classified samples:\n",
    "$\n",
    "\\text{Accuracy} = \\frac{\\text{TP + TN}}{\\text{TP + TN + FP + FN}}\n",
    "$\n",
    "\n",
    "### 7.3 **Precision**\n",
    "\n",
    "Precision is the proportion of correctly predicted positive samples:\n",
    "$\n",
    "\\text{Precision} = \\frac{\\text{TP}}{\\text{TP + FP}}\n",
    "$\n",
    "\n",
    "### 7.4 **Recall**\n",
    "\n",
    "Recall is the proportion of actual positive samples that were correctly predicted:\n",
    "$\n",
    "\\text{Recall} = \\frac{\\text{TP}}{\\text{TP + FN}}\n",
    "$\n",
    "\n",
    "### 7.5 **F1-Score**\n",
    "\n",
    "The F1-Score is the harmonic mean of precision and recall:\n",
    "$\n",
    "\\text{F1-Score} = \\frac{2 \\cdot \\text{Precision} \\cdot \\text{Recall}}{\\text{Precision + Recall}}\n",
    "$\n",
    "\n"
   ]
  },
  {
   "cell_type": "markdown",
   "metadata": {},
   "source": [
    "### Step 0 : Data Preprocessing "
   ]
  },
  {
   "cell_type": "code",
   "execution_count": 18,
   "metadata": {},
   "outputs": [],
   "source": [
    "import numpy as np\n",
    "import pandas as pd\n",
    "import matplotlib.pyplot as plt\n",
    "from sklearn.model_selection import KFold\n",
    "from sklearn.metrics import confusion_matrix, accuracy_score\n",
    "from sklearn.preprocessing import OneHotEncoder, StandardScaler\n",
    "from ucimlrepo import fetch_ucirepo"
   ]
  },
  {
   "cell_type": "code",
   "execution_count": 19,
   "metadata": {},
   "outputs": [],
   "source": [
    "# Fetch dataset\n",
    "breast_cancer = fetch_ucirepo(id=14)\n",
    "X = breast_cancer.data.features\n",
    "y = breast_cancer.data.targets"
   ]
  },
  {
   "cell_type": "markdown",
   "metadata": {},
   "source": [
    "### Step 1: Import Libraries and Load Data"
   ]
  },
  {
   "cell_type": "code",
   "execution_count": 20,
   "metadata": {},
   "outputs": [
    {
     "data": {
      "text/html": [
       "<div>\n",
       "<style scoped>\n",
       "    .dataframe tbody tr th:only-of-type {\n",
       "        vertical-align: middle;\n",
       "    }\n",
       "\n",
       "    .dataframe tbody tr th {\n",
       "        vertical-align: top;\n",
       "    }\n",
       "\n",
       "    .dataframe thead th {\n",
       "        text-align: right;\n",
       "    }\n",
       "</style>\n",
       "<table border=\"1\" class=\"dataframe\">\n",
       "  <thead>\n",
       "    <tr style=\"text-align: right;\">\n",
       "      <th></th>\n",
       "      <th>age</th>\n",
       "      <th>menopause</th>\n",
       "      <th>tumor-size</th>\n",
       "      <th>inv-nodes</th>\n",
       "      <th>node-caps</th>\n",
       "      <th>deg-malig</th>\n",
       "      <th>breast</th>\n",
       "      <th>breast-quad</th>\n",
       "      <th>irradiat</th>\n",
       "    </tr>\n",
       "  </thead>\n",
       "  <tbody>\n",
       "    <tr>\n",
       "      <th>0</th>\n",
       "      <td>30-39</td>\n",
       "      <td>premeno</td>\n",
       "      <td>30-34</td>\n",
       "      <td>0-2</td>\n",
       "      <td>no</td>\n",
       "      <td>3</td>\n",
       "      <td>left</td>\n",
       "      <td>left_low</td>\n",
       "      <td>no</td>\n",
       "    </tr>\n",
       "    <tr>\n",
       "      <th>1</th>\n",
       "      <td>40-49</td>\n",
       "      <td>premeno</td>\n",
       "      <td>20-24</td>\n",
       "      <td>0-2</td>\n",
       "      <td>no</td>\n",
       "      <td>2</td>\n",
       "      <td>right</td>\n",
       "      <td>right_up</td>\n",
       "      <td>no</td>\n",
       "    </tr>\n",
       "    <tr>\n",
       "      <th>2</th>\n",
       "      <td>40-49</td>\n",
       "      <td>premeno</td>\n",
       "      <td>20-24</td>\n",
       "      <td>0-2</td>\n",
       "      <td>no</td>\n",
       "      <td>2</td>\n",
       "      <td>left</td>\n",
       "      <td>left_low</td>\n",
       "      <td>no</td>\n",
       "    </tr>\n",
       "    <tr>\n",
       "      <th>3</th>\n",
       "      <td>60-69</td>\n",
       "      <td>ge40</td>\n",
       "      <td>15-19</td>\n",
       "      <td>0-2</td>\n",
       "      <td>no</td>\n",
       "      <td>2</td>\n",
       "      <td>right</td>\n",
       "      <td>left_up</td>\n",
       "      <td>no</td>\n",
       "    </tr>\n",
       "    <tr>\n",
       "      <th>4</th>\n",
       "      <td>40-49</td>\n",
       "      <td>premeno</td>\n",
       "      <td>0-4</td>\n",
       "      <td>0-2</td>\n",
       "      <td>no</td>\n",
       "      <td>2</td>\n",
       "      <td>right</td>\n",
       "      <td>right_low</td>\n",
       "      <td>no</td>\n",
       "    </tr>\n",
       "  </tbody>\n",
       "</table>\n",
       "</div>"
      ],
      "text/plain": [
       "     age menopause tumor-size inv-nodes node-caps  deg-malig breast  \\\n",
       "0  30-39   premeno      30-34       0-2        no          3   left   \n",
       "1  40-49   premeno      20-24       0-2        no          2  right   \n",
       "2  40-49   premeno      20-24       0-2        no          2   left   \n",
       "3  60-69      ge40      15-19       0-2        no          2  right   \n",
       "4  40-49   premeno        0-4       0-2        no          2  right   \n",
       "\n",
       "  breast-quad irradiat  \n",
       "0    left_low       no  \n",
       "1    right_up       no  \n",
       "2    left_low       no  \n",
       "3     left_up       no  \n",
       "4   right_low       no  "
      ]
     },
     "execution_count": 20,
     "metadata": {},
     "output_type": "execute_result"
    }
   ],
   "source": [
    "X.head()"
   ]
  },
  {
   "cell_type": "code",
   "execution_count": 22,
   "metadata": {},
   "outputs": [
    {
     "data": {
      "text/html": [
       "<div>\n",
       "<style scoped>\n",
       "    .dataframe tbody tr th:only-of-type {\n",
       "        vertical-align: middle;\n",
       "    }\n",
       "\n",
       "    .dataframe tbody tr th {\n",
       "        vertical-align: top;\n",
       "    }\n",
       "\n",
       "    .dataframe thead th {\n",
       "        text-align: right;\n",
       "    }\n",
       "</style>\n",
       "<table border=\"1\" class=\"dataframe\">\n",
       "  <thead>\n",
       "    <tr style=\"text-align: right;\">\n",
       "      <th></th>\n",
       "      <th>deg-malig</th>\n",
       "    </tr>\n",
       "  </thead>\n",
       "  <tbody>\n",
       "    <tr>\n",
       "      <th>count</th>\n",
       "      <td>286.000000</td>\n",
       "    </tr>\n",
       "    <tr>\n",
       "      <th>mean</th>\n",
       "      <td>2.048951</td>\n",
       "    </tr>\n",
       "    <tr>\n",
       "      <th>std</th>\n",
       "      <td>0.738217</td>\n",
       "    </tr>\n",
       "    <tr>\n",
       "      <th>min</th>\n",
       "      <td>1.000000</td>\n",
       "    </tr>\n",
       "    <tr>\n",
       "      <th>25%</th>\n",
       "      <td>2.000000</td>\n",
       "    </tr>\n",
       "    <tr>\n",
       "      <th>50%</th>\n",
       "      <td>2.000000</td>\n",
       "    </tr>\n",
       "    <tr>\n",
       "      <th>75%</th>\n",
       "      <td>3.000000</td>\n",
       "    </tr>\n",
       "    <tr>\n",
       "      <th>max</th>\n",
       "      <td>3.000000</td>\n",
       "    </tr>\n",
       "  </tbody>\n",
       "</table>\n",
       "</div>"
      ],
      "text/plain": [
       "        deg-malig\n",
       "count  286.000000\n",
       "mean     2.048951\n",
       "std      0.738217\n",
       "min      1.000000\n",
       "25%      2.000000\n",
       "50%      2.000000\n",
       "75%      3.000000\n",
       "max      3.000000"
      ]
     },
     "execution_count": 22,
     "metadata": {},
     "output_type": "execute_result"
    }
   ],
   "source": [
    "X.describe()"
   ]
  },
  {
   "cell_type": "code",
   "execution_count": 23,
   "metadata": {},
   "outputs": [
    {
     "data": {
      "text/plain": [
       "age            0\n",
       "menopause      0\n",
       "tumor-size     0\n",
       "inv-nodes      0\n",
       "node-caps      8\n",
       "deg-malig      0\n",
       "breast         0\n",
       "breast-quad    1\n",
       "irradiat       0\n",
       "dtype: int64"
      ]
     },
     "execution_count": 23,
     "metadata": {},
     "output_type": "execute_result"
    }
   ],
   "source": [
    "X.isnull().sum()"
   ]
  },
  {
   "cell_type": "code",
   "execution_count": 24,
   "metadata": {},
   "outputs": [
    {
     "data": {
      "text/plain": [
       "<bound method NDFrame.head of                     Class\n",
       "0    no-recurrence-events\n",
       "1    no-recurrence-events\n",
       "2    no-recurrence-events\n",
       "3    no-recurrence-events\n",
       "4    no-recurrence-events\n",
       "..                    ...\n",
       "281     recurrence-events\n",
       "282     recurrence-events\n",
       "283     recurrence-events\n",
       "284     recurrence-events\n",
       "285     recurrence-events\n",
       "\n",
       "[286 rows x 1 columns]>"
      ]
     },
     "execution_count": 24,
     "metadata": {},
     "output_type": "execute_result"
    }
   ],
   "source": [
    "y.head"
   ]
  },
  {
   "cell_type": "code",
   "execution_count": 1,
   "metadata": {},
   "outputs": [
    {
     "name": "stdout",
     "output_type": "stream",
     "text": [
      "<class 'pandas.core.frame.DataFrame'>\n",
      "RangeIndex: 286 entries, 0 to 285\n",
      "Data columns (total 42 columns):\n",
      " #   Column                 Non-Null Count  Dtype  \n",
      "---  ------                 --------------  -----  \n",
      " 0   age_20-29              286 non-null    float64\n",
      " 1   age_30-39              286 non-null    float64\n",
      " 2   age_40-49              286 non-null    float64\n",
      " 3   age_50-59              286 non-null    float64\n",
      " 4   age_60-69              286 non-null    float64\n",
      " 5   age_70-79              286 non-null    float64\n",
      " 6   menopause_ge40         286 non-null    float64\n",
      " 7   menopause_lt40         286 non-null    float64\n",
      " 8   menopause_premeno      286 non-null    float64\n",
      " 9   tumor-size_0-4         286 non-null    float64\n",
      " 10  tumor-size_14-Oct      286 non-null    float64\n",
      " 11  tumor-size_15-19       286 non-null    float64\n",
      " 12  tumor-size_20-24       286 non-null    float64\n",
      " 13  tumor-size_25-29       286 non-null    float64\n",
      " 14  tumor-size_30-34       286 non-null    float64\n",
      " 15  tumor-size_35-39       286 non-null    float64\n",
      " 16  tumor-size_40-44       286 non-null    float64\n",
      " 17  tumor-size_45-49       286 non-null    float64\n",
      " 18  tumor-size_50-54       286 non-null    float64\n",
      " 19  tumor-size_9-May       286 non-null    float64\n",
      " 20  inv-nodes_0-2          286 non-null    float64\n",
      " 21  inv-nodes_11-Sep       286 non-null    float64\n",
      " 22  inv-nodes_14-Dec       286 non-null    float64\n",
      " 23  inv-nodes_15-17        286 non-null    float64\n",
      " 24  inv-nodes_24-26        286 non-null    float64\n",
      " 25  inv-nodes_5-Mar        286 non-null    float64\n",
      " 26  inv-nodes_8-Jun        286 non-null    float64\n",
      " 27  node-caps_no           286 non-null    float64\n",
      " 28  node-caps_yes          286 non-null    float64\n",
      " 29  node-caps_nan          286 non-null    float64\n",
      " 30  breast_left            286 non-null    float64\n",
      " 31  breast_right           286 non-null    float64\n",
      " 32  breast-quad_central    286 non-null    float64\n",
      " 33  breast-quad_left_low   286 non-null    float64\n",
      " 34  breast-quad_left_up    286 non-null    float64\n",
      " 35  breast-quad_right_low  286 non-null    float64\n",
      " 36  breast-quad_right_up   286 non-null    float64\n",
      " 37  breast-quad_nan        286 non-null    float64\n",
      " 38  irradiat_no            286 non-null    float64\n",
      " 39  irradiat_yes           286 non-null    float64\n",
      " 40  deg-malig              286 non-null    float64\n",
      " 41  target                 286 non-null    float64\n",
      "dtypes: float64(42)\n",
      "memory usage: 94.0 KB\n",
      "   age_20-29  age_30-39  age_40-49  age_50-59  age_60-69  age_70-79  \\\n",
      "0        0.0        1.0        0.0        0.0        0.0        0.0   \n",
      "1        0.0        0.0        1.0        0.0        0.0        0.0   \n",
      "2        0.0        0.0        1.0        0.0        0.0        0.0   \n",
      "3        0.0        0.0        0.0        0.0        1.0        0.0   \n",
      "4        0.0        0.0        1.0        0.0        0.0        0.0   \n",
      "\n",
      "   menopause_ge40  menopause_lt40  menopause_premeno  tumor-size_0-4  ...  \\\n",
      "0             0.0             0.0                1.0             0.0  ...   \n",
      "1             0.0             0.0                1.0             0.0  ...   \n",
      "2             0.0             0.0                1.0             0.0  ...   \n",
      "3             1.0             0.0                0.0             0.0  ...   \n",
      "4             0.0             0.0                1.0             1.0  ...   \n",
      "\n",
      "   breast-quad_central  breast-quad_left_low  breast-quad_left_up  \\\n",
      "0                  0.0                   1.0                  0.0   \n",
      "1                  0.0                   0.0                  0.0   \n",
      "2                  0.0                   1.0                  0.0   \n",
      "3                  0.0                   0.0                  1.0   \n",
      "4                  0.0                   0.0                  0.0   \n",
      "\n",
      "   breast-quad_right_low  breast-quad_right_up  breast-quad_nan  irradiat_no  \\\n",
      "0                    0.0                   0.0              0.0          1.0   \n",
      "1                    0.0                   1.0              0.0          1.0   \n",
      "2                    0.0                   0.0              0.0          1.0   \n",
      "3                    0.0                   0.0              0.0          1.0   \n",
      "4                    1.0                   0.0              0.0          1.0   \n",
      "\n",
      "   irradiat_yes  deg-malig  target  \n",
      "0           0.0   1.290564     0.0  \n",
      "1           0.0  -0.066426     0.0  \n",
      "2           0.0  -0.066426     0.0  \n",
      "3           0.0  -0.066426     0.0  \n",
      "4           0.0  -0.066426     0.0  \n",
      "\n",
      "[5 rows x 42 columns]\n"
     ]
    }
   ],
   "source": [
    "import pandas as pd\n",
    "import numpy as np\n",
    "import matplotlib.pyplot as plt\n",
    "from sklearn.model_selection import train_test_split\n",
    "from sklearn.metrics import confusion_matrix\n",
    "\n",
    "# Load the dataset\n",
    "file_path = 'preprocessed_breast_cancer_data.csv'\n",
    "data = pd.read_csv(file_path)\n",
    "\n",
    "# Display structure and first few rows\n",
    "data.info()\n",
    "print(data.head())"
   ]
  },
  {
   "cell_type": "code",
   "execution_count": 25,
   "metadata": {},
   "outputs": [
    {
     "data": {
      "text/plain": [
       "Class    0\n",
       "dtype: int64"
      ]
     },
     "execution_count": 25,
     "metadata": {},
     "output_type": "execute_result"
    }
   ],
   "source": [
    "y.isnull().sum()"
   ]
  },
  {
   "cell_type": "code",
   "execution_count": 26,
   "metadata": {},
   "outputs": [],
   "source": [
    "categorical_features = ['age', 'menopause', 'tumor-size', 'inv-nodes', 'node-caps', 'breast', 'breast-quad', 'irradiat']\n",
    "numeric_features = ['deg-malig']"
   ]
  },
  {
   "cell_type": "code",
   "execution_count": 28,
   "metadata": {},
   "outputs": [],
   "source": [
    "# One-hot encode the target for binary classification\n",
    "y = np.where(y == 'no-recurrence-events', 0, 1)\n",
    "\n",
    "# Preprocessing (One-hot encode categorical features, standardize numeric)\n",
    "categorical_features = ['age', 'menopause', 'tumor-size', 'inv-nodes', 'node-caps', 'breast', 'breast-quad', 'irradiat']\n",
    "numeric_features = ['deg-malig']\n",
    "\n",
    "encoder = OneHotEncoder(handle_unknown='ignore')\n",
    "X_categorical = encoder.fit_transform(X[categorical_features]).toarray()\n",
    "scaler = StandardScaler()\n",
    "X_numeric = scaler.fit_transform(X[numeric_features])\n",
    "\n",
    "# Combine processed features\n",
    "X_processed = np.hstack((X_categorical, X_numeric))\n",
    "# Save processed data in CSV file\n",
    "processed_data = pd.DataFrame(data=X_processed)\n",
    "processed_data.to_csv('processed_breast_cancer_data_2.csv', index=False)"
   ]
  },
  {
   "cell_type": "markdown",
   "metadata": {},
   "source": [
    "### Step 2: Data Preparation - Split the Dataset"
   ]
  },
  {
   "cell_type": "code",
   "execution_count": 2,
   "metadata": {},
   "outputs": [],
   "source": [
    "# Assuming the last column is the target variable\n",
    "X = data.iloc[:, :-1].values  # Input features\n",
    "y = data.iloc[:, -1].values   # Target variable (binary classification)\n",
    "\n",
    "# Split the dataset into training (70%) and testing (30%)\n",
    "X_train, X_test, y_train, y_test = train_test_split(X, y, test_size=0.3, random_state=42)"
   ]
  },
  {
   "cell_type": "markdown",
   "metadata": {},
   "source": [
    "### Step 3: Initialize Weights, Biases, and Parameters"
   ]
  },
  {
   "cell_type": "code",
   "execution_count": 3,
   "metadata": {},
   "outputs": [],
   "source": [
    "# Initialize weights and biases (assuming a single hidden layer neural network for simplicity)\n",
    "input_size = X_train.shape[1]\n",
    "hidden_size = 10  # You can choose a different size for the hidden layer\n",
    "output_size = 1\n",
    "\n",
    "# Random initialization of weights and biases\n",
    "np.random.seed(42)  # For reproducibility\n",
    "W1 = np.random.randn(input_size, hidden_size)  # Weights between input and hidden layer\n",
    "b1 = np.random.randn(hidden_size)              # Bias for hidden layer\n",
    "W2 = np.random.randn(hidden_size, output_size) # Weights between hidden and output layer\n",
    "b2 = np.random.randn(output_size)              # Bias for output layer\n",
    "\n",
    "# Set the learning rate\n",
    "learning_rate = 0.001\n"
   ]
  },
  {
   "cell_type": "markdown",
   "metadata": {},
   "source": [
    "### Step 4: Sigmoid Activation Function and Forward Propagation"
   ]
  },
  {
   "cell_type": "code",
   "execution_count": 4,
   "metadata": {},
   "outputs": [],
   "source": [
    "# Sigmoid activation function\n",
    "def sigmoid(z):\n",
    "    return 1 / (1 + np.exp(-z))\n",
    "\n",
    "# Forward propagation\n",
    "def forward_propagation(X, W1, b1, W2, b2):\n",
    "    # Hidden layer\n",
    "    Z1 = np.dot(X, W1) + b1\n",
    "    A1 = sigmoid(Z1)\n",
    "    \n",
    "    # Output layer\n",
    "    Z2 = np.dot(A1, W2) + b2\n",
    "    A2 = sigmoid(Z2)\n",
    "    \n",
    "    return A1, A2\n"
   ]
  },
  {
   "cell_type": "markdown",
   "metadata": {},
   "source": [
    "### Step 5: Error Calculation (Mean Squared Error)"
   ]
  },
  {
   "cell_type": "code",
   "execution_count": 5,
   "metadata": {},
   "outputs": [],
   "source": [
    "# Mean squared error calculation\n",
    "def calculate_error(y_true, y_pred):\n",
    "    return 0.5 * np.mean((y_true - y_pred) ** 2)\n"
   ]
  },
  {
   "cell_type": "markdown",
   "metadata": {},
   "source": [
    "### Step 6: Backpropagation"
   ]
  },
  {
   "cell_type": "code",
   "execution_count": 6,
   "metadata": {},
   "outputs": [],
   "source": [
    "# Backpropagation to update weights and biases\n",
    "def backpropagation(X, y, A1, A2, W1, b1, W2, b2, learning_rate):\n",
    "    m = X.shape[0]\n",
    "    \n",
    "    # Error at output layer\n",
    "    dZ2 = A2 - y.reshape(-1, 1)\n",
    "    dW2 = (1 / m) * np.dot(A1.T, dZ2)\n",
    "    db2 = (1 / m) * np.sum(dZ2, axis=0)\n",
    "    \n",
    "    # Error at hidden layer\n",
    "    dA1 = np.dot(dZ2, W2.T)\n",
    "    dZ1 = dA1 * A1 * (1 - A1)\n",
    "    dW1 = (1 / m) * np.dot(X.T, dZ1)\n",
    "    db1 = (1 / m) * np.sum(dZ1, axis=0)\n",
    "    \n",
    "    # Update weights and biases\n",
    "    W1 -= learning_rate * dW1\n",
    "    b1 -= learning_rate * db1\n",
    "    W2 -= learning_rate * dW2\n",
    "    b2 -= learning_rate * db2\n",
    "    \n",
    "    return W1, b1, W2, b2\n"
   ]
  },
  {
   "cell_type": "markdown",
   "metadata": {},
   "source": [
    "### Step 7: K-Fold Cross Validation"
   ]
  },
  {
   "cell_type": "code",
   "execution_count": 14,
   "metadata": {},
   "outputs": [
    {
     "name": "stderr",
     "output_type": "stream",
     "text": [
      "d:\\anaconda3\\Lib\\site-packages\\sklearn\\metrics\\_classification.py:1509: UndefinedMetricWarning: Precision is ill-defined and being set to 0.0 due to no predicted samples. Use `zero_division` parameter to control this behavior.\n",
      "  _warn_prf(average, modifier, f\"{metric.capitalize()} is\", len(result))\n"
     ]
    },
    {
     "name": "stdout",
     "output_type": "stream",
     "text": [
      "Fold Metrics:Accuracy=0.6379310344827587, Precision=0.0, Recall=0.0, F1-Score=0.0\n",
      "Fold Metrics:Accuracy=0.7543859649122807, Precision=0.6666666666666666, Recall=0.13333333333333333, F1-Score=0.2222222222222222\n"
     ]
    },
    {
     "name": "stderr",
     "output_type": "stream",
     "text": [
      "d:\\anaconda3\\Lib\\site-packages\\sklearn\\metrics\\_classification.py:1509: UndefinedMetricWarning: Precision is ill-defined and being set to 0.0 due to no predicted samples. Use `zero_division` parameter to control this behavior.\n",
      "  _warn_prf(average, modifier, f\"{metric.capitalize()} is\", len(result))\n"
     ]
    },
    {
     "name": "stdout",
     "output_type": "stream",
     "text": [
      "Fold Metrics:Accuracy=0.7368421052631579, Precision=0.0, Recall=0.0, F1-Score=0.0\n"
     ]
    },
    {
     "name": "stderr",
     "output_type": "stream",
     "text": [
      "d:\\anaconda3\\Lib\\site-packages\\sklearn\\metrics\\_classification.py:1509: UndefinedMetricWarning: Precision is ill-defined and being set to 0.0 due to no predicted samples. Use `zero_division` parameter to control this behavior.\n",
      "  _warn_prf(average, modifier, f\"{metric.capitalize()} is\", len(result))\n"
     ]
    },
    {
     "name": "stdout",
     "output_type": "stream",
     "text": [
      "Fold Metrics:Accuracy=0.6666666666666666, Precision=0.0, Recall=0.0, F1-Score=0.0\n",
      "Fold Metrics:Accuracy=0.7192982456140351, Precision=0.4, Recall=0.13333333333333333, F1-Score=0.2\n"
     ]
    }
   ],
   "source": [
    "\n",
    "from sklearn.model_selection import KFold\n",
    "from sklearn.metrics import confusion_matrix, accuracy_score, precision_score, recall_score, f1_score\n",
    "epochs = 1000\n",
    "errors = []\n",
    "\n",
    "# Number of folds for K-fold cross-validation\n",
    "k_folds = 5\n",
    "kf = KFold(n_splits=k_folds, shuffle=True, random_state=42)\n",
    "\n",
    "# List to store errors, confusion matrices, and other metrics for each fold\n",
    "fold_errors = []\n",
    "fold_accuracy_scores = []\n",
    "fold_confusion_matrices = []\n",
    "fold_precisions = []\n",
    "fold_recalls = []\n",
    "fold_f1_scores = []\n",
    "\n",
    "# Loop through each fold\n",
    "for train_index, test_index in kf.split(X):\n",
    "    # Split data into training and testing sets for the current fold\n",
    "    X_train_fold, X_test_fold = X[train_index], X[test_index]\n",
    "    y_train_fold, y_test_fold = y[train_index], y[test_index]\n",
    "    \n",
    "    # Reinitialize weights and biases for each fold\n",
    "    W1 = np.random.randn(input_size, hidden_size)\n",
    "    b1 = np.random.randn(hidden_size)\n",
    "    W2 = np.random.randn(hidden_size, output_size)\n",
    "    b2 = np.random.randn(output_size)\n",
    "    \n",
    "    errors = []  # Track errors for each fold\n",
    "    \n",
    "    # Train the model for this fold\n",
    "    for epoch in range(epochs):\n",
    "        A1, A2 = forward_propagation(X_train_fold, W1, b1, W2, b2)\n",
    "        error = calculate_error(y_train_fold, A2)\n",
    "        errors.append(error)\n",
    "        \n",
    "        W1, b1, W2, b2 = backpropagation(X_train_fold, y_train_fold, A1, A2, W1, b1, W2, b2, learning_rate)\n",
    "    \n",
    "    # Store the error loss for this fold\n",
    "    fold_errors.append(errors)\n",
    "    \n",
    "    # Evaluate the model on the test set of the current fold\n",
    "    _, y_pred_test_fold = forward_propagation(X_test_fold, W1, b1, W2, b2)\n",
    "    y_pred_test_fold = (y_pred_test_fold > 0.5).astype(int)  # Binarize predictions\n",
    "    \n",
    "    # Confusion Matrix\n",
    "    conf_matrix_fold = confusion_matrix(y_test_fold, y_pred_test_fold)\n",
    "    fold_confusion_matrices.append(conf_matrix_fold)\n",
    "    \n",
    "    # Calculate other metrics: Precision, Recall, F1-Score\n",
    "    accuracy_fold = accuracy_score(y_test_fold, y_pred_test_fold)\n",
    "    precision_fold = precision_score(y_test_fold, y_pred_test_fold)\n",
    "    recall_fold = recall_score(y_test_fold, y_pred_test_fold)\n",
    "    f1_fold = f1_score(y_test_fold, y_pred_test_fold)\n",
    "    \n",
    "    fold_accuracy_scores.append(accuracy_fold)\n",
    "    fold_precisions.append(precision_fold)\n",
    "    fold_recalls.append(recall_fold)\n",
    "    fold_f1_scores.append(f1_fold)\n",
    "\n",
    "    # Print metrics for this fold\n",
    "    print(f\"Fold Metrics:Accuracy={accuracy_fold}, Precision={precision_fold}, Recall={recall_fold}, F1-Score={f1_fold}\")\n"
   ]
  },
  {
   "cell_type": "markdown",
   "metadata": {},
   "source": [
    "### Step 8: Error Curve"
   ]
  },
  {
   "cell_type": "code",
   "execution_count": 15,
   "metadata": {},
   "outputs": [
    {
     "data": {
      "image/png": "[encoded data removed]",
      "text/plain": [
       "<Figure size 640x480 with 1 Axes>"
      ]
     },
     "metadata": {},
     "output_type": "display_data"
    }
   ],
   "source": [
    "# Average the errors over all folds for each epoch\n",
    "average_errors = np.mean(fold_errors, axis=0)\n",
    "\n",
    "# Plotting the error vs epoch graph averaged over all folds\n",
    "plt.plot(average_errors)\n",
    "plt.title('Average Error vs Epochs (K-Fold Cross-Validation)')\n",
    "plt.xlabel('Epochs')\n",
    "plt.ylabel('Average Error')\n",
    "plt.show()\n"
   ]
  },
  {
   "cell_type": "markdown",
   "metadata": {},
   "source": [
    "### Step 9: Confusion Matrix"
   ]
  },
  {
   "cell_type": "code",
   "execution_count": 16,
   "metadata": {},
   "outputs": [
    {
     "data": {
      "image/png": "[encoded data removed]",
      "text/plain": [
       "<Figure size 500x400 with 2 Axes>"
      ]
     },
     "metadata": {},
     "output_type": "display_data"
    },
    {
     "data": {
      "image/png": "[encoded data removed]",
      "text/plain": [
       "<Figure size 500x400 with 2 Axes>"
      ]
     },
     "metadata": {},
     "output_type": "display_data"
    },
    {
     "data": {
      "image/png": "[encoded data removed]",
      "text/plain": [
       "<Figure size 500x400 with 2 Axes>"
      ]
     },
     "metadata": {},
     "output_type": "display_data"
    },
    {
     "data": {
      "image/png": "[encoded data removed]",
      "text/plain": [
       "<Figure size 500x400 with 2 Axes>"
      ]
     },
     "metadata": {},
     "output_type": "display_data"
    },
    {
     "data": {
      "image/png": "[encoded data removed]",
      "text/plain": [
       "<Figure size 500x400 with 2 Axes>"
      ]
     },
     "metadata": {},
     "output_type": "display_data"
    }
   ],
   "source": [
    "import seaborn as sns\n",
    "from sklearn.metrics import ConfusionMatrixDisplay\n",
    "\n",
    "# Plot confusion matrix for each fold\n",
    "for fold_num, conf_matrix_fold in enumerate(fold_confusion_matrices, 1):\n",
    "    plt.figure(figsize=(5, 4))\n",
    "    sns.heatmap(conf_matrix_fold, annot=True, fmt=\"d\", cmap=\"Blues\")\n",
    "    plt.title(f\"Confusion Matrix for Fold {fold_num}\")\n",
    "    plt.xlabel(\"Predicted Label\")\n",
    "    plt.ylabel(\"True Label\")\n",
    "    plt.show()\n"
   ]
  },
  {
   "cell_type": "code",
   "execution_count": 17,
   "metadata": {},
   "outputs": [
    {
     "name": "stdout",
     "output_type": "stream",
     "text": [
      "Average Precision: 0.21333333333333332\n",
      "Average Recall: 0.05333333333333333\n",
      "Average F1-Score: 0.08444444444444445\n",
      "Average Accuracy: 0.7030248033877797\n"
     ]
    }
   ],
   "source": [
    "# Calculate average precision, recall, and F1 score over all folds\n",
    "average_precision = np.mean(fold_precisions)\n",
    "average_recall = np.mean(fold_recalls)\n",
    "average_f1 = np.mean(fold_f1_scores)\n",
    "average_accuracy = np.mean(fold_accuracy_scores)\n",
    "\n",
    "print(f\"Average Precision: {average_precision}\")\n",
    "print(f\"Average Recall: {average_recall}\")\n",
    "print(f\"Average F1-Score: {average_f1}\")\n",
    "print(f\"Average Accuracy: {average_accuracy}\")\n"
   ]
  }
 ],
 "metadata": {
  "kernelspec": {
   "display_name": "base",
   "language": "python",
   "name": "python3"
  },
  "language_info": {
   "codemirror_mode": {
    "name": "ipython",
    "version": 3
   },
   "file_extension": ".py",
   "mimetype": "text/x-python",
   "name": "python",
   "nbconvert_exporter": "python",
   "pygments_lexer": "ipython3",
   "version": "3.12.4"
  }
 },
 "nbformat": 4,
 "nbformat_minor": 2
}
