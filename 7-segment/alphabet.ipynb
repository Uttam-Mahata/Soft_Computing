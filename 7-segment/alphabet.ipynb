{
 "cells": [
  {
   "cell_type": "code",
   "execution_count": 1,
   "metadata": {},
   "outputs": [],
   "source": [
    "import numpy as np\n",
    "import pandas as pd\n",
    "\n",
    "# Original dataset as a Pandas DataFrame\n",
    "data = {\n",
    "    \"Letter\": [\"A\", \"B\", \"C\", \"D\", \"E\", \"F\", \"G\", \"H\", \"I\", \"J\", \"K\", \"L\", \"M\", \"N\", \"O\", \"P\", \"Q\", \"R\", \"S\", \"T\", \"U\", \"V\", \"W\", \"X\", \"Y\", \"Z\"],\n",
    "    \"Pixels\": [\n",
    "        [0,0,1,0,0,0,1,0,1,0,1,0,0,0,1,1,1,1,1,1,1,0,0,0,1],\n",
    "        [1,1,1,1,0,1,0,0,0,1,1,1,1,0,1,0,0,0,1,1,1,1,1,1,0],\n",
    "        [1,1,1,1,1,1,0,0,0,0,1,0,0,0,0,1,0,0,0,0,1,1,1,1,1],\n",
    "        [1,1,1,1,0,1,0,0,0,1,1,0,0,0,1,1,0,0,0,1,1,1,1,1,0],\n",
    "        [1,1,1,1,1,1,0,0,0,0,1,1,1,1,1,1,0,0,0,0,1,1,1,1,1],\n",
    "        [1,1,1,1,1,1,0,0,0,0,1,1,1,1,0,1,0,0,0,0,1,0,0,0,0],\n",
    "        [1,1,1,1,1,1,0,0,0,0,1,0,0,1,1,1,0,0,0,1,1,1,1,1,1],\n",
    "        [1,0,0,0,1,1,0,0,0,1,1,1,1,1,1,1,0,0,0,1,1,0,0,0,1],\n",
    "        [1,1,1,1,1,0,0,1,0,0,0,0,1,0,0,0,0,1,0,0,1,1,1,1,1],\n",
    "        [0,0,0,0,1,0,0,0,0,1,0,0,0,0,1,1,0,0,0,1,0,1,1,1,0],\n",
    "        [1,0,0,1,0,1,0,1,0,0,1,1,0,0,0,1,0,1,0,0,1,0,0,1,0],\n",
    "        [1,0,0,0,0,1,0,0,0,0,1,0,0,0,0,1,0,0,0,0,1,1,1,1,1],\n",
    "        [1,0,0,0,1,1,1,0,1,1,1,0,1,0,1,1,0,0,0,1,1,0,0,0,1],\n",
    "        [1,0,0,0,1,1,1,0,0,1,1,0,1,0,1,1,0,0,1,1,1,0,0,0,1],\n",
    "        [0,1,1,1,0,1,0,0,0,1,1,0,0,0,1,1,0,0,0,1,0,1,1,1,0],\n",
    "        [1,1,1,1,0,1,0,0,0,1,1,1,1,1,0,1,0,0,0,0,1,0,0,0,0],\n",
    "        [1,1,1,1,1,1,0,0,0,1,1,0,0,0,1,1,0,0,1,0,1,1,1,0,1],\n",
    "        [1,1,1,1,1,1,0,0,0,1,1,1,1,0,0,1,0,0,1,0,1,0,0,0,1],\n",
    "        [1,1,1,1,1,1,0,0,0,0,1,1,1,1,1,0,0,0,0,1,1,1,1,1,1],\n",
    "        [1,1,1,1,1,0,0,1,0,0,0,0,1,0,0,0,0,1,0,0,0,0,1,0,0],\n",
    "        [1,0,0,0,1,1,0,0,0,1,1,0,0,0,1,1,0,0,0,1,1,1,1,1,1],\n",
    "        [1,0,0,0,1,1,0,0,0,1,0,1,0,1,0,0,0,1,0,0,0,0,1,0,0],\n",
    "        [1,0,0,0,1,1,0,0,0,1,1,0,1,0,1,1,1,0,1,1,1,0,0,0,1],\n",
    "        [1,0,0,0,1,0,1,0,1,0,0,0,1,0,0,0,1,0,1,0,1,0,0,0,1],\n",
    "        [1,0,0,0,1,0,1,0,1,0,0,0,1,0,0,0,0,1,0,0,0,0,1,0,0],\n",
    "        [1,1,1,1,1,0,0,0,1,0,0,0,1,0,0,0,1,0,0,0,1,1,1,1,1]\n",
    "    ]\n",
    "}\n",
    "df = pd.DataFrame(data)\n",
    "\n",
    "def add_noise(grid, noise_level=0.1):\n",
    "    noisy_grid = grid.copy()\n",
    "    num_noisy_pixels = int(noise_level * len(grid))\n",
    "    indices = np.random.choice(len(grid), num_noisy_pixels, replace=False)\n",
    "    for idx in indices:\n",
    "        noisy_grid[idx] = 1 - noisy_grid[idx]  # Flip 0 to 1 or 1 to 0\n",
    "    return noisy_grid\n",
    "\n",
    "# Apply noise to generate augmented data\n",
    "augmented_data = []\n",
    "for _, row in df.iterrows():\n",
    "    base_grid = row['Pixels']\n",
    "    for _ in range(10):  # Generate 10 noisy variants for each letter\n",
    "        noisy_grid = add_noise(base_grid, noise_level=0.1)\n",
    "        augmented_data.append([row['Letter'], *noisy_grid])\n",
    "\n",
    "# Convert augmented data to a DataFrame\n",
    "augmented_df = pd.DataFrame(augmented_data, columns=[\"Letter\"] + [f\"Pixel{i+1}\" for i in range(25)])\n"
   ]
  },
  {
   "cell_type": "code",
   "execution_count": 2,
   "metadata": {},
   "outputs": [],
   "source": [
    "non_letter_data = []\n",
    "for _ in range(200):  # Generate 200 random noise patterns\n",
    "    random_grid = np.random.choice([0, 1], size=25, p=[0.8, 0.2]).tolist()  # Mostly zeros\n",
    "    non_letter_data.append([\"Non-Letter\", *random_grid])\n",
    "\n",
    "non_letter_df = pd.DataFrame(non_letter_data, columns=[\"Letter\"] + [f\"Pixel{i+1}\" for i in range(25)])\n"
   ]
  },
  {
   "cell_type": "code",
   "execution_count": 3,
   "metadata": {},
   "outputs": [],
   "source": [
    "# Combine all data\n",
    "final_df = pd.concat([augmented_df, non_letter_df], ignore_index=True)\n",
    "final_df['Label'] = final_df['Letter'].apply(lambda x: 1 if x != \"Non-Letter\" else 0)  # Label alphabet as 1, non-letter as 0\n",
    "\n",
    "# Save to CSV for later use\n",
    "final_df.to_csv(\"augmented_alphabet_dataset.csv\", index=False)\n"
   ]
  },
  {
   "cell_type": "code",
   "execution_count": null,
   "metadata": {},
   "outputs": [],
   "source": []
  }
 ],
 "metadata": {
  "kernelspec": {
   "display_name": "Python 3",
   "language": "python",
   "name": "python3"
  },
  "language_info": {
   "codemirror_mode": {
    "name": "ipython",
    "version": 3
   },
   "file_extension": ".py",
   "mimetype": "text/x-python",
   "name": "python",
   "nbconvert_exporter": "python",
   "pygments_lexer": "ipython3",
   "version": "3.12.1"
  }
 },
 "nbformat": 4,
 "nbformat_minor": 2
}
